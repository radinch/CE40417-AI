{
  "cells": [
    {
      "cell_type": "markdown",
      "metadata": {
        "id": "PzxDJCIsY3E9"
      },
      "source": [
        "\n",
        "<br>\n",
        "<font>\n",
        "<div dir=ltr align=center>\n",
        "<img src=\"https://cdn.freebiesupply.com/logos/large/2x/sharif-logo-png-transparent.png\" width=150 height=150> <br>\n",
        "<font color=0F5298 size=7>\n",
        "Artificial Intelligence <br>\n",
        "<font color=2565AE size=5>\n",
        "Computer Engineering Department <br>\n",
        "Spring 2024<br>\n",
        "<font color=3C99D size=5>\n",
        "Practical Assignment 5 - RL <br>\n",
        "<font color=696880 size=4>\n",
        "Amirhossein Abedi\n",
        "\n",
        "\n",
        "____"
      ]
    },
    {
      "cell_type": "markdown",
      "metadata": {
        "id": "Ms-9kbvUY3E_"
      },
      "source": [
        "# Personal Data"
      ]
    },
    {
      "cell_type": "code",
      "execution_count": 1,
      "metadata": {
        "id": "ww0iAPYFY3E_"
      },
      "outputs": [],
      "source": [
        "# Set your student number and name\n",
        "student_number = '401105815'\n",
        "Name = 'Radin'\n",
        "Last_Name = 'Cheraghi'"
      ]
    },
    {
      "cell_type": "markdown",
      "metadata": {
        "id": "Dn7Oj3cbY3FA"
      },
      "source": [
        "# <center>تاکسی</center>\n",
        "\n",
        "<div dir=\"rtl\" style=\"font-size:18px\">\n",
        "در این سوال می‌خواهیم با محیط Taxi در gymnasium کار کنیم.\n",
        "<br>\n",
        "در اینجا در نقش یک تاکسی هستیم که باید یک مسافر را از یک مکان مشخص برداریم و در مقصد موردنظر او پیاده کنیم. توضیحات تکمیلی درمورد این محیط را می‌توانید در  <a href=\"https://gymnasium.farama.org/environments/toy_text/taxi/\">Taxi</a>  پیدا کنید.\n",
        "\n",
        "![Taxi](taxi.png)\n",
        "</div>"
      ]
    },
    {
      "cell_type": "markdown",
      "metadata": {
        "id": "hSHOm0jhY3FA"
      },
      "source": [
        "<div dir=\"rtl\" style=\"font-size:18px\">\n",
        "در این سوال می‌خواهیم با پیاده‌سازی الگوریتم value iteration بهترین پاسخ در هر حالت را پیدا کنیم. هر حالت در این بازی با یک عدد بین ۰ تا ۴۹۹ نشان داده می‌شود. که فرمول آن به صورت زیر است\n",
        "<br><br>\n",
        "\n",
        "### <center dir=\"ltr\">state = ((5 × row + col) × 5 + passenger_location) × 4 + destination</center>\n",
        "\n",
        "<br><br>\n",
        "مقادیر row و col که مشخص است و عددی بین ۰ تا ۴ است. مقدار passenger_location بین ۰ تا ۴ می‌باشد که هرکدام از اعداد نشان می‌دهد که مسافر در کدام پایانه قرار دارد. پایانه‌ها مکان‌هایی مشخص درون بازی هستند که می‌تواند با استفاده از تابع env.render آن‌ها را مشاهده کنید. ۴ پایانه به رنگ‌های قرمز، سبز، زرد، آبی درون بازی قرار دارند که مقادیر ۰ تا ۳ به ترتیب همین پایانه‌ها را نشان می‌دهد. و در نهایت مقدار ۴ برای passenger_location به این معنا است که مسافر در تاکسی قرار دارد.\n",
        "<br><br>\n",
        "مقدار destination نشان می‌دهد که مسافر می‌خواهد در کدام پایانه پیاده شود. نگاشت عدد و رنگ‌ها مانند بخش passenger_location می‌باشد و فقط مقادیر ۰ تا ۳ را به خود می‌گیرد.\n",
        "<br><br>\n",
        "با هر بار اجرای تابع reset و step بر روی env ، مقدار اولی که به شما برگردانده می‌شود مقدار state است. در ادامه به action ها می‌پردازیم. در کل ۶ اکشن مختلف می‌توانیم اجرا کنیم. اکشن ۰ تا ۳ به ترتیب مربوط به حرکات پایین، بالا، راست و چپ است. حرکت ۴ مربوط به برداشتن مسافر و حرکت ۵ پیاده کردن مسافر است. استفاده از حرکت ۴ و ۵ هنگامی که مجاز نباشند، ریوارد منفی زیادی خواهد داشت.\n",
        "</div>"
      ]
    },
    {
      "cell_type": "code",
      "source": [
        "!pip install numpy\n",
        "!pip install gymnasium"
      ],
      "metadata": {
        "colab": {
          "base_uri": "https://localhost:8080/"
        },
        "id": "nYpQIplKbhri",
        "outputId": "47d3ed5e-baed-4e71-a73d-52e3348df6c2"
      },
      "execution_count": 3,
      "outputs": [
        {
          "output_type": "stream",
          "name": "stdout",
          "text": [
            "Requirement already satisfied: numpy in /usr/local/lib/python3.10/dist-packages (1.25.2)\n",
            "Requirement already satisfied: gymnasium in /usr/local/lib/python3.10/dist-packages (0.29.1)\n",
            "Requirement already satisfied: numpy>=1.21.0 in /usr/local/lib/python3.10/dist-packages (from gymnasium) (1.25.2)\n",
            "Requirement already satisfied: cloudpickle>=1.2.0 in /usr/local/lib/python3.10/dist-packages (from gymnasium) (2.2.1)\n",
            "Requirement already satisfied: typing-extensions>=4.3.0 in /usr/local/lib/python3.10/dist-packages (from gymnasium) (4.12.2)\n",
            "Requirement already satisfied: farama-notifications>=0.0.1 in /usr/local/lib/python3.10/dist-packages (from gymnasium) (0.0.4)\n"
          ]
        }
      ]
    },
    {
      "cell_type": "code",
      "execution_count": 19,
      "metadata": {
        "id": "zXw5xSbYY3FB"
      },
      "outputs": [],
      "source": [
        "import gymnasium as gym\n",
        "env = gym.make('Taxi-v3', render_mode='ansi')"
      ]
    },
    {
      "cell_type": "markdown",
      "metadata": {
        "id": "gNfh1pSRY3FB"
      },
      "source": [
        "<div dir=\"rtl\" style=\"font-size:18px\">\n",
        "خروجی تابع reset شامل یک ۲ تایی است. اولین خروجی آن یک عدد است که نشان‌دهنده حالت اولیه می‌باشد و خروجی دوم یک دیکشنری است که مقدار action_mask شامل تمام اکشن‌هایی است که در این حالت می‌توانید انجام دهید.\n",
        "</div>"
      ]
    },
    {
      "cell_type": "code",
      "execution_count": 20,
      "metadata": {
        "colab": {
          "base_uri": "https://localhost:8080/"
        },
        "id": "hDa8cnqJY3FB",
        "outputId": "6482b1f1-f7e5-4b6e-cca9-614e10e80429"
      },
      "outputs": [
        {
          "output_type": "execute_result",
          "data": {
            "text/plain": [
              "(372, {'prob': 1.0, 'action_mask': array([1, 1, 1, 0, 0, 0], dtype=int8)})"
            ]
          },
          "metadata": {},
          "execution_count": 20
        }
      ],
      "source": [
        "env.reset()"
      ]
    },
    {
      "cell_type": "markdown",
      "metadata": {
        "id": "EBxtmaLhY3FC"
      },
      "source": [
        "<div dir=\"rtl\" style=\"font-size:18px\">\n",
        "خروجی تابع step هم تا حدود زیادی شبیه به reset می باشد. با این تفاوت که بعد از خروجی حالت، یک عدد و ۲ بولین به شما می‌دهد که عدد اول مقدار reward و بولین اول تمام شدن بازی را مشخص می‌کند.\n",
        "</div>"
      ]
    },
    {
      "cell_type": "markdown",
      "metadata": {
        "id": "21uZT_LpY3FD"
      },
      "source": [
        "<div dir=\"rtl\" style=\"font-size:18px\">\n",
        "در ادامه کلاس VI را پیاده‌سازی کنید که با گرفتن discount factor الگوریتم value iteration را پیاده‌سازی می‌کند.\n",
        "</div>"
      ]
    },
    {
      "cell_type": "code",
      "execution_count": 21,
      "metadata": {
        "id": "KTCrza3JY3FD",
        "colab": {
          "base_uri": "https://localhost:8080/"
        },
        "outputId": "bf526036-9737-48aa-b016-0b2f21164541"
      },
      "outputs": [
        {
          "output_type": "execute_result",
          "data": {
            "text/plain": [
              "(472,\n",
              " -1,\n",
              " False,\n",
              " False,\n",
              " {'prob': 1.0, 'action_mask': array([0, 1, 1, 0, 1, 0], dtype=int8)})"
            ]
          },
          "metadata": {},
          "execution_count": 21
        }
      ],
      "source": [
        "env.step(0)"
      ]
    },
    {
      "cell_type": "code",
      "execution_count": 23,
      "metadata": {
        "id": "cAQhbYjTY3FE"
      },
      "outputs": [],
      "source": [
        "import numpy as np\n",
        "\n",
        "class VI():\n",
        "    def __init__(self, gamma: float = 0.95):\n",
        "        # todo\n",
        "        self.values = np.zeros(500)\n",
        "        self.gamma = gamma\n",
        "        self.learn()\n",
        "\n",
        "    def policy(self, state: int) -> int:\n",
        "      set1 = [(0, 1), (1, 1), (3, 0), (4, 0), (0, 4), (1, 4), (2, 4), (3, 4), (4, 4), (3, 2), (4, 2)]\n",
        "      set2 = [(0, 2), (1, 2), (3, 1), (4, 1), (0, 0), (1, 0), (2, 0), (3, 0), (4, 0), (3, 3), (4, 3)]\n",
        "      max_v = float('-inf')\n",
        "      for action in range(6):\n",
        "        reward = self.get_reward(state, action)\n",
        "        row, col, passenger_location, destination = self._num_to_state(state)\n",
        "        state_val = state\n",
        "        if action == 0 and row != 4:\n",
        "          state_val = self._state_to_num(row + 1, col, passenger_location, destination)\n",
        "        if action == 1 and row != 0:\n",
        "          state_val = self._state_to_num(row - 1, col, passenger_location, destination)\n",
        "        if action == 2 and (row, col) not in set1:\n",
        "          state_val = self._state_to_num(row, col + 1, passenger_location, destination)\n",
        "        if action == 3 and (row, col) not in set2:\n",
        "          state_val = self._state_to_num(row, col - 1, passenger_location, destination)\n",
        "        if action == 4 and reward != -10:\n",
        "          state_val = self._state_to_num(row, col, 4, destination)\n",
        "        new_val = reward + self.values[state_val] * self.gamma\n",
        "        if new_val > max_v:\n",
        "          max_v = new_val\n",
        "          index = action\n",
        "      return index\n",
        "\n",
        "    def _num_to_state(self, num: int):\n",
        "        dest = num % 4\n",
        "        num //= 4\n",
        "        passenger_loc = num % 5\n",
        "        num //= 5\n",
        "        col = num % 5\n",
        "        num //= 5\n",
        "        return num, col, passenger_loc, dest\n",
        "\n",
        "    def _state_to_num(self, row, col, passenger_loc, dest):\n",
        "        ret = row\n",
        "        ret = 5 * ret + col\n",
        "        ret = 5 * ret + passenger_loc\n",
        "        ret = 4 * ret + dest\n",
        "        return ret\n",
        "\n",
        "    def get_reward(self, state, action):\n",
        "        row, col, passenger_location, destination = self._num_to_state(state)\n",
        "        reward = 0\n",
        "        if action == 4:\n",
        "          reward = 0 # I can change it later\n",
        "          if passenger_location == 0:\n",
        "            if row != 0 or col != 0:\n",
        "              reward = -10 # I can change it in future\n",
        "          elif passenger_location == 1:\n",
        "            if row != 0 or col != 4:\n",
        "              reward = -10 # I can change it in future\n",
        "          elif passenger_location == 2:\n",
        "            if row != 4 or col != 0:\n",
        "              reward = -10 # I can change it in future\n",
        "          elif passenger_location == 3:\n",
        "            if row != 4 or col != 3:\n",
        "              reward = -10 # I can change it in future\n",
        "        elif action == 5:\n",
        "          reward = 20 # I can change it later\n",
        "          if destination == 0:\n",
        "            if row != 0 or col != 0:\n",
        "              reward = -10 # I can change it in future\n",
        "          elif destination == 1:\n",
        "            if row != 0 or col != 4:\n",
        "              reward = -10 # I can change it in future\n",
        "          elif destination == 2:\n",
        "            if row != 4 or col != 0:\n",
        "              reward = -10 # I can change it in future\n",
        "          elif destination == 3:\n",
        "            if row != 4 or col != 3:\n",
        "              reward = -10 # I can change it in future\n",
        "          if passenger_location != 4:\n",
        "            reward = -10\n",
        "\n",
        "        return reward\n",
        "\n",
        "    def learn(self):\n",
        "      set1 = [(0, 1), (1, 1), (3, 0), (4, 0), (0, 4), (1, 4), (2, 4), (3, 4), (4, 4), (3, 2), (4, 2)]\n",
        "      set2 = [(0, 2), (1, 2), (3, 1), (4, 1), (0, 0), (1, 0), (2, 0), (3, 0), (4, 0), (3, 3), (4, 3)]\n",
        "      num_iterations = 10000\n",
        "      for iteration in range(num_iterations):\n",
        "        tmp = []\n",
        "        for i in self.values:\n",
        "          tmp.append(i)\n",
        "        tmp_values = np.array(tmp)\n",
        "        for state in range(len(self.values)):\n",
        "          max_v = float('-inf')\n",
        "          for action in range(6):\n",
        "            reward = self.get_reward(state, action)\n",
        "            row, col, passenger_location, destination = self._num_to_state(state)\n",
        "            state_val = state\n",
        "            if action == 0 and row != 4:\n",
        "             state_val = self._state_to_num(row + 1, col, passenger_location, destination)\n",
        "            if action == 1 and row != 0:\n",
        "              state_val = self._state_to_num(row - 1, col, passenger_location, destination)\n",
        "            if action == 2 and (row, col) not in set1:\n",
        "              state_val = self._state_to_num(row, col + 1, passenger_location, destination)\n",
        "            if action == 3 and (row, col) not in set2:\n",
        "              state_val = self._state_to_num(row, col - 1, passenger_location, destination)\n",
        "            if action == 4 and reward != -10:\n",
        "              state_val = self._state_to_num(row, col, 4, destination)\n",
        "            new_val = reward + self.values[state_val] * self.gamma\n",
        "            if new_val > max_v:\n",
        "              max_v = new_val\n",
        "          tmp_values[state] = max_v\n",
        "        self.values = tmp_values\n",
        "        self.values[self._state_to_num(4, 0, 4, 2)] = 1000\n",
        "        self.values[self._state_to_num(4, 3, 4, 3)] = 1000\n",
        "\n",
        "        self.values[self._state_to_num(0, 0, 4, 0)] = 1000\n",
        "        self.values[self._state_to_num(0, 4, 4, 1)] = 1000\n",
        "\n",
        "agent = VI()"
      ]
    },
    {
      "cell_type": "markdown",
      "metadata": {
        "id": "8rG-5eqoY3FE"
      },
      "source": [
        "<div dir=\"rtl\" style=\"font-size:18px\">\n",
        "۲ سلول بعدی را اجرا کنید. در هر نقشه نشان داده شده است که با برقرار بودن شرایط به خصوص، تاکسی به کدام سمت حرکت می‌کند. در انتها در چند خط منطقی عمل کردن مدل خود را بررسی کنید.\n",
        "</div>"
      ]
    },
    {
      "cell_type": "code",
      "execution_count": 24,
      "metadata": {
        "id": "XBqwDSHSY3FE",
        "outputId": "8abb2de5-7f11-45ad-f199-f5d0ea26bc20",
        "colab": {
          "base_uri": "https://localhost:8080/"
        }
      },
      "outputs": [
        {
          "output_type": "stream",
          "name": "stdout",
          "text": [
            "Passenger in R\n",
            "+---------+\n",
            "|R:←|↓:↓:G|\n",
            "|↑:↑|↓:↓:↓|\n",
            "|↑:↑:←:←:←|\n",
            "|↑|↑:↑|↑:↑|\n",
            "|Y|↑:↑|B:↑|\n",
            "+---------+\n",
            "\n",
            "Passenger in G\n",
            "+---------+\n",
            "|R:↓|→:→:G|\n",
            "|↓:↓|↑:↑:↑|\n",
            "|→:→:↑:↑:↑|\n",
            "|↑|↑:↑|↑:↑|\n",
            "|Y|↑:↑|B:↑|\n",
            "+---------+\n",
            "\n",
            "Passenger in Y\n",
            "+---------+\n",
            "|R:↓|↓:↓:G|\n",
            "|↓:↓|↓:↓:↓|\n",
            "|↓:←:←:←:←|\n",
            "|↓|↑:↑|↑:↑|\n",
            "|Y|↑:↑|B:↑|\n",
            "+---------+\n",
            "\n",
            "Passenger in B\n",
            "+---------+\n",
            "|R:↓|↓:↓:G|\n",
            "|↓:↓|↓:↓:↓|\n",
            "|→:→:→:↓:↓|\n",
            "|↑|↑:↑|↓:↓|\n",
            "|Y|↑:↑|B:←|\n",
            "+---------+\n",
            "\n"
          ]
        }
      ],
      "source": [
        "terminal = {0: 'R', 1: 'G', 2: 'Y', 3: 'B'}\n",
        "arrows = {0: '↓', 1: '↑', 2: '→', 3: '←'}\n",
        "for passenger_loc in range(4):\n",
        "    print(f'Passenger in {terminal[passenger_loc]}')\n",
        "    print('+---------+')\n",
        "    for i in range(5):\n",
        "        print('|', end='')\n",
        "        for j in range(5):\n",
        "            if not j == 0:\n",
        "                if (i, j) in [(0, 2), (1, 2), (3, 1), (4, 1), (3, 3), (4, 3)]:\n",
        "                    print('|', end='')\n",
        "                else:\n",
        "                    print(':', end='')\n",
        "            if (i, j) in [(0, 0), (0, 4), (4, 0), (4, 3)]:\n",
        "                print(terminal[[(0, 0), (0, 4), (4, 0), (4, 3)].index((i, j))], end='')\n",
        "            else:\n",
        "                try:\n",
        "                    print(arrows[agent.policy(agent._state_to_num(i, j, passenger_loc, 1))], end='')\n",
        "                except:\n",
        "                    print('⤬', end='')\n",
        "        print('|')\n",
        "    print('+---------+\\n')\n",
        "\n"
      ]
    },
    {
      "cell_type": "markdown",
      "source": [
        "همانطور که در خروجی‌های بالا مشخص می‌باشد تاکسی همواره در تلاش است تا با توجه به موانع به پایانه‌ای که مسافر در آن مستقر است رسیده و آن را سوار کند که از لحاظ منطقی درست بوده و در خروجی‌ها نیز چنین چیزی دیده می‌شود"
      ],
      "metadata": {
        "id": "uNX2uYocNe6-"
      }
    },
    {
      "cell_type": "code",
      "execution_count": 25,
      "metadata": {
        "id": "T9iFhu6oY3FE",
        "outputId": "de070b01-3021-4ddb-f35a-49a2cfa11d18",
        "colab": {
          "base_uri": "https://localhost:8080/"
        }
      },
      "outputs": [
        {
          "output_type": "stream",
          "name": "stdout",
          "text": [
            "Passenger on board, destination in R\n",
            "+---------+\n",
            "|R:←|↓:↓:G|\n",
            "|↑:↑|↓:↓:↓|\n",
            "|↑:↑:←:←:←|\n",
            "|↑|↑:↑|↑:↑|\n",
            "|Y|↑:↑|B:↑|\n",
            "+---------+\n",
            "\n",
            "Passenger on board, destination in G\n",
            "+---------+\n",
            "|R:↓|→:→:G|\n",
            "|↓:↓|↑:↑:↑|\n",
            "|→:→:↑:↑:↑|\n",
            "|↑|↑:↑|↑:↑|\n",
            "|Y|↑:↑|B:↑|\n",
            "+---------+\n",
            "\n",
            "Passenger on board, destination in Y\n",
            "+---------+\n",
            "|R:↓|↓:↓:G|\n",
            "|↓:↓|↓:↓:↓|\n",
            "|↓:←:←:←:←|\n",
            "|↓|↑:↑|↑:↑|\n",
            "|Y|↑:↑|B:↑|\n",
            "+---------+\n",
            "\n",
            "Passenger on board, destination in B\n",
            "+---------+\n",
            "|R:↓|↓:↓:G|\n",
            "|↓:↓|↓:↓:↓|\n",
            "|→:→:→:↓:↓|\n",
            "|↑|↑:↑|↓:↓|\n",
            "|Y|↑:↑|B:←|\n",
            "+---------+\n",
            "\n"
          ]
        }
      ],
      "source": [
        "terminal = {0: 'R', 1: 'G', 2: 'Y', 3: 'B'}\n",
        "arrows = {0: '↓', 1: '↑', 2: '→', 3: '←'}\n",
        "for dest in range(4):\n",
        "    print(f'Passenger on board, destination in {terminal[dest]}')\n",
        "    print('+---------+')\n",
        "    for i in range(5):\n",
        "        print('|', end='')\n",
        "        for j in range(5):\n",
        "            if not j == 0:\n",
        "                if (i, j) in [(0, 2), (1, 2), (3, 1), (4, 1), (3, 3), (4, 3)]:\n",
        "                    print('|', end='')\n",
        "                else:\n",
        "                    print(':', end='')\n",
        "            if (i, j) in [(0, 0), (0, 4), (4, 0), (4, 3)]:\n",
        "                print(terminal[[(0, 0), (0, 4), (4, 0), (4, 3)].index((i, j))], end='')\n",
        "            else:\n",
        "                try:\n",
        "                    print(arrows[agent.policy(agent._state_to_num(i, j, 4, dest))], end='')\n",
        "                except:\n",
        "                    print('⤬', end='')\n",
        "        print('|')\n",
        "    print('+---------+\\n')"
      ]
    },
    {
      "cell_type": "markdown",
      "source": [
        "همانطور که در خروجی‌های بالا مشخص می‌باشد تاکسی همواره در تلاش است تا با توجه به موانع به پایانه‌ای که مسافر قرار است در آن پیاده شود برسد و آن را پیاده کند که از لحاظ منطقی درست بوده و در خروجی‌ها نیز چنین چیزی دیده می‌شود"
      ],
      "metadata": {
        "id": "7kQKWSqgOSRS"
      }
    }
  ],
  "metadata": {
    "kernelspec": {
      "display_name": "Python 3",
      "language": "python",
      "name": "python3"
    },
    "language_info": {
      "codemirror_mode": {
        "name": "ipython",
        "version": 3
      },
      "file_extension": ".py",
      "mimetype": "text/x-python",
      "name": "python",
      "nbconvert_exporter": "python",
      "pygments_lexer": "ipython3",
      "version": "3.11.3"
    },
    "orig_nbformat": 4,
    "colab": {
      "provenance": []
    }
  },
  "nbformat": 4,
  "nbformat_minor": 0
}