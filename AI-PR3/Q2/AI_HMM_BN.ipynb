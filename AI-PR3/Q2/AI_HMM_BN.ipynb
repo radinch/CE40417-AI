{
  "nbformat": 4,
  "nbformat_minor": 0,
  "metadata": {
    "colab": {
      "provenance": []
    },
    "kernelspec": {
      "name": "python3",
      "display_name": "Python 3"
    },
    "language_info": {
      "name": "python"
    }
  },
  "cells": [
    {
      "cell_type": "markdown",
      "source": [
        "<img src='http://www-scf.usc.edu/~ghasemig/images/sharif.png' alt=\"SUT logo\" width=500 height=300 align=center class=\"saturate\" >\n",
        "\n",
        "<br>\n",
        "<font>\n",
        "<div dir=ltr align=center>\n",
        "<font color=0F5298 size=7>\n",
        "    Artificial Intelligence <br>\n",
        "<font color=2565AE size=5>\n",
        "    Computer Engineering Department <br>\n",
        "    Spring 2024<br>\n",
        "<font color=3C99D size=5>\n",
        "    Practical Assignment 3 - Heart Disease Prediction using Hidden Markov Models  <br>\n",
        "<font color=696880 size=4>\n",
        "Omid Daliran\n"
      ],
      "metadata": {
        "id": "lGYYFKeJ1GMj"
      }
    },
    {
      "cell_type": "markdown",
      "source": [
        "# Personal Data"
      ],
      "metadata": {
        "id": "mKqvyyp3TIzP"
      }
    },
    {
      "cell_type": "code",
      "source": [
        "# Set your student number and name\n",
        "student_number = \"401105815\"\n",
        "Name = \"Radin\"\n",
        "Last_Name = \"Cheraghi\""
      ],
      "metadata": {
        "id": "0geUs2cxytvu"
      },
      "execution_count": 2,
      "outputs": []
    },
    {
      "cell_type": "markdown",
      "source": [
        "# Libraries"
      ],
      "metadata": {
        "id": "7t1ZoXu-0BHq"
      }
    },
    {
      "cell_type": "code",
      "source": [
        "import csv\n",
        "import numpy as np\n",
        "import pandas as pd"
      ],
      "metadata": {
        "id": "ROZMme5FrlVL"
      },
      "execution_count": 3,
      "outputs": []
    },
    {
      "cell_type": "markdown",
      "source": [
        "# Q2: Heart Disease Prediction using Hidden Markov  (100 Points)"
      ],
      "metadata": {
        "id": "22cAp2xx0asS"
      }
    },
    {
      "cell_type": "markdown",
      "source": [
        "# Introduction\n",
        "\n",
        "\n",
        "In this notebook, we explore the application of Hidden Markov Models (HMM) in predicting heart disease risk based on DNA sequences. Heart disease is a prevalent and life-threatening condition, and early detection is crucial for effective management. By leveraging HMM, we aim to identify regions within DNA sequences associated with high and low GC content, which have been linked to heart disease susceptibility.\n"
      ],
      "metadata": {
        "id": "HCCMQjKH1sWi"
      }
    },
    {
      "cell_type": "markdown",
      "source": [
        "# Hidden Markov Models (HMM) (40 points)\n",
        "\n",
        "Hidden Markov Models are probabilistic models widely used in sequential data analysis, particularly in bioinformatics. They are characterized by states, transitions between states, and emission probabilities associated with each state. In our context, the states represent the underlying biological characteristics of DNA sequences, while the emission probabilities signify the likelihood of observing specific nucleotides given each state.\n",
        "\n",
        "To facilitate our heart disease classification, we'll implement a custom Hidden Markov Model (HMM) class in Python. This class will include the Viterbi and Forward algorithms."
      ],
      "metadata": {
        "id": "tsYpNuyH4Cu-"
      }
    },
    {
      "cell_type": "code",
      "source": [
        "class HMM:\n",
        "    def __init__(self, states: list, emissions: list, start_probabilities: list, transition_probabilities: list):\n",
        "        self.states = states\n",
        "        self.state_labels = {i: state for i, state in enumerate(states)}\n",
        "        self.emissions = emissions\n",
        "        self.start_probabilities = start_probabilities\n",
        "        self.transition_probabilities = transition_probabilities\n",
        "\n",
        "    def viterbi(self, sequence: str) -> tuple:\n",
        "        '''\n",
        "        This method performs the Viterbi algorithm within the Hidden Markov Model (HMM) class to predict the most likely sequence of hidden states given an observed sequence, such as a DNA sequence.\n",
        "\n",
        "        Parameters:\n",
        "        - sequence: The observed sequence for which the most likely hidden state sequence is to be predicted.\n",
        "\n",
        "        Returns:\n",
        "        - path: The predicted sequence of hidden states corresponding to the input sequence.\n",
        "        - max_probability: The maximum probability associated with the predicted path.\n",
        "        '''\n",
        "        # TODO\n",
        "        num_of_states = len(self.states)\n",
        "        num_of_emissions = len(sequence)\n",
        "        viterbi_matrix = [[0] * num_of_states for i in range(num_of_emissions)]\n",
        "        path = [[0] * num_of_states for i in range(num_of_emissions)]\n",
        "        for i in range(num_of_states):\n",
        "          viterbi_matrix[0][i] = self.start_probabilities[i] * self.emissions[i][sequence[0]]\n",
        "          path[0][i] = i\n",
        "        for i in range(1,num_of_emissions):\n",
        "          for j in range(num_of_states):\n",
        "            max_tmp = 0\n",
        "            for k in range(num_of_states):\n",
        "              #print(viterbi_matrix[i-1][k], self.transition_probabilities[k][j], self.emissions[j][sequence[i]])\n",
        "              if viterbi_matrix[i-1][k] * self.transition_probabilities[k][j] * self.emissions[j][sequence[i]] > max_tmp:\n",
        "                max_tmp = viterbi_matrix[i-1][k] * self.transition_probabilities[k][j] * self.emissions[j][sequence[i]]\n",
        "                path[i][j] = k\n",
        "                viterbi_matrix[i][j] = max_tmp\n",
        "        max_probability = 0\n",
        "        end_state = None\n",
        "        for k in range(num_of_states):\n",
        "          if max_probability < viterbi_matrix[num_of_emissions - 1][k]:\n",
        "            max_probability = viterbi_matrix[num_of_emissions - 1][k]\n",
        "            end_state = k\n",
        "        # print(viterbi_matrix)\n",
        "        final_path = [end_state]\n",
        "        for i in range(num_of_emissions - 1, 0 , -1):\n",
        "          final_path = [path[i][end_state]] + final_path\n",
        "          end_state = path[i][end_state]\n",
        "        path = \"\"\n",
        "        for i in final_path:\n",
        "          path += self.state_labels[i]\n",
        "        return path, max_probability\n",
        "\n",
        "    def forward_algorithm(self, sequence: str) -> list:\n",
        "        '''\n",
        "        This method performs the Forward algorithm within the Hidden Markov Model (HMM) class to calculate the probability of observing a given sequence under the model.\n",
        "\n",
        "        Parameters:\n",
        "        - sequence: The observed sequence for which the likelihood is to be calculated.\n",
        "\n",
        "        Returns:\n",
        "        - probability_last_states: The probabilities of the final states after observing the entire sequence.\n",
        "        '''\n",
        "        # TODO\n",
        "        num_of_states = len(self.states)\n",
        "        num_of_emissions = len(sequence)\n",
        "        forward_matrix = [[0.0] * num_of_states for i in range(num_of_emissions)]\n",
        "        for i in range(num_of_states):\n",
        "          forward_matrix[0][i] = self.start_probabilities[i] * self.emissions[i][sequence[0]]\n",
        "        for i in range(1,num_of_emissions):\n",
        "          for j in range(num_of_states):\n",
        "            sum = 0\n",
        "            for k in range(num_of_states):\n",
        "              sum += forward_matrix[i-1][k] * self.transition_probabilities[k][j] * self.emissions[j][sequence[i]]\n",
        "            forward_matrix[i][j] = sum\n",
        "        sum = 0\n",
        "        for i in range(num_of_states):\n",
        "          sum += forward_matrix[num_of_emissions - 1][i]\n",
        "        for i in range(num_of_states):\n",
        "          forward_matrix[num_of_emissions - 1][i] /= sum\n",
        "        probability_last_states = forward_matrix[num_of_emissions - 1]\n",
        "\n",
        "        return probability_last_states\n",
        "\n"
      ],
      "metadata": {
        "id": "UHTspQ58UDSs"
      },
      "execution_count": 16,
      "outputs": []
    },
    {
      "cell_type": "markdown",
      "source": [
        "GC content, the proportion of guanine (G) and cytosine (C) nucleotides in a DNA sequence, is a fundamental genomic feature. Variations in GC content have been implicated in various biological processes, including gene regulation and disease susceptibility. Specifically, high GC content (H) regions are associated with increased gene expression and potential regulatory elements, while low GC content (L) regions may indicate structural elements or regions prone to mutations. The transition and emission and start probabilities are as shown in the image below:\n",
        "\n",
        "![Probabilities](Probabilities.png)"
      ],
      "metadata": {
        "id": "9isx2p9kFT4o"
      }
    },
    {
      "cell_type": "code",
      "source": [
        "# TODO: Complete and run this code to check your implementation\n",
        "\n",
        "states = ['H', 'L']\n",
        "emissions = [{'A' : 0.2, 'C' : 0.3, 'G' : 0.3, 'T' : 0.2},\n",
        "             {'A' : 0.3, 'C' : 0.2, 'G' : 0.2, 'T' : 0.3}]\n",
        "start_probabilities = [0.5, 0.5]\n",
        "transition_probabilities = [[0.5 , 0.5] , [0.4 , 0.6]]\n",
        "\n",
        "hmm = HMM(states, emissions, start_probabilities, transition_probabilities)\n",
        "\n",
        "# Example DNA sequence\n",
        "sequence = \"ATGCGCGATCGATCGAATCGCGT\"\n",
        "\n",
        "# Viterbi algorithm\n",
        "path, max_probability = hmm.viterbi(sequence)\n",
        "print(\"Viterbi Path:\", path)\n",
        "print(\"Max Probability (Viterbi):\", max_probability)\n",
        "\n",
        "# Forward algorithm\n",
        "probability = hmm.forward_algorithm(sequence)\n",
        "print(\"Probability (Forward Algorithm):\", probability)"
      ],
      "metadata": {
        "colab": {
          "base_uri": "https://localhost:8080/"
        },
        "id": "9CcWsAvQXjJ_",
        "outputId": "4e2809fc-fe7d-4988-c0d5-784e241c67b6"
      },
      "execution_count": 17,
      "outputs": [
        {
          "output_type": "stream",
          "name": "stdout",
          "text": [
            "Viterbi Path: LLHHHHHLLHHLLHHLLLHHHHL\n",
            "Max Probability (Viterbi): 1.1438396227480495e-19\n",
            "Probability (Forward Algorithm): [0.3581800885349868, 0.6418199114650132]\n"
          ]
        }
      ]
    },
    {
      "cell_type": "markdown",
      "source": [
        "# Calculating Probabilities for Blood Type, Height, and Weight (10 points)\n",
        "\n",
        "After obtaining the sequence of H and L regions from the DNA using the Viterbi algorithm, we proceed to calculate the probabilities for other attributes such as blood type, height, weight, and the presence or absence of DCM (DCM, or Dilated Cardiomyopathy, is a heart condition characterized by the enlargement of the heart's left ventricle. It can lead to heart failure if not properly managed.) using the Forward algorithm. In this step, we aim to leverage the Hidden Markov Model (HMM) to infer these attributes based on the observed GC content sequence.\n",
        "\n",
        "\n",
        "We will use the functionality of the Forward algorithm to compute the probabilities associated with each possible state after observing the sequence.\n",
        "\n",
        "Attributes and Possible States:\n",
        "* Blood Type: O, A, B, AB\n",
        "* Height: 160 cm, 170 cm, 180 cm, 190 cm\n",
        "* Weight: 50 kg, 65 kg, 80 kg, 95 kg\n",
        "* DCM: Y (indicating presence) or N (indicating absence)\n"
      ],
      "metadata": {
        "id": "RE8zgAe07NnC"
      }
    },
    {
      "cell_type": "code",
      "source": [
        "def probabilities_from_sequence(sequence: str) -> tuple:\n",
        "  '''\n",
        "  This function, `probabilities_from_sequence(sequence)`, computes the probabilities associated with attributes such as blood type, height, weight, and the presence or absence of Dilated Cardiomyopathy (DCM) based on an input DNA sequence.\n",
        "\n",
        "  ### Input:\n",
        "  - `sequence`: The observed DNA sequence for which probabilities are to be computed.\n",
        "\n",
        "  ### Output:\n",
        "  The function returns dictionaries containing the probabilities for each possible state of the respective attributes:\n",
        "  - `height_probability_dic`: Probabilities for height categories (160 cm, 170 cm, 180 cm, 190 cm).\n",
        "  - `weight_probability_dic`: Probabilities for weight categories (50 kg, 65 kg, 80 kg, 95 kg).\n",
        "  - `blood_type_probability_dic`: Probabilities for blood types (O, A, B, AB).\n",
        "  - `DCM_probability_dic`: Probabilities for the presence (Y) or absence (N) of Dilated Cardiomyopathy (DCM).\n",
        "  '''\n",
        "  # Define the emission probabilities for each feature\n",
        "\n",
        "  height_emissions = [{'H': 0.2, 'L': 0.8}, {'H': 0.3, 'L': 0.7},\n",
        "                      {'H': 0.9, 'L': 0.1}, {'H': 0.8, 'L': 0.2}]\n",
        "\n",
        "  weight_emissions = [{'H': 0.3, 'L': 0.7}, {'H': 0.1, 'L': 0.9},\n",
        "                      {'H': 0.2, 'L': 0.8}, {'H': 0.7, 'L': 0.3}]\n",
        "\n",
        "  blood_type_emissions = [{'H': 0.75, 'L': 0.25}, {'H': 0.8, 'L': 0.2},\n",
        "                          {'H': 0.85, 'L': 0.15}, {'H': 0.7, 'L': 0.3}]\n",
        "\n",
        "  DCM_emissions = [{'H': 0.7, 'L': 0.3}, {'H': 0.6, 'L': 0.4}]\n",
        "\n",
        "  # Define the transition probabilities for each feature\n",
        "  height_transition_probabilities = [[0.7, 0.2, 0.05, 0.05], [0.1, 0.8, 0.05, 0.05], [0.1, 0.1, 0.7, 0.1], [0.1, 0.1, 0.1, 0.7]]\n",
        "  weight_transition_probabilities = [[0.7, 0.2, 0.05, 0.05], [0.1, 0.8, 0.05, 0.05], [0.1, 0.1, 0.7, 0.1], [0.1, 0.1, 0.1, 0.7]]\n",
        "  blood_type_transition_probabilities = [[0.7, 0.2, 0.05, 0.05], [0.1, 0.8, 0.05, 0.05], [0.1, 0.1, 0.7, 0.1], [0.1, 0.1, 0.1, 0.7]]\n",
        "  DCM_transition_probabilities = [[0.9, 0.1], [0.1, 0.9]]\n",
        "\n",
        "\n",
        "  # Define start probabilities for each state\n",
        "  height_start_probabilities = [0.1, 0.4, 0.4, 0.1]\n",
        "  weight_start_probabilities = [0.15, 0.35, 0.35, 0.15]\n",
        "  blood_type_start_probabilities = [0.1, 0.35, 0.35, 0.2]\n",
        "  DCM_start_probabilities = [0.25, 0.75]\n",
        "\n",
        "\n",
        "  height_probability_dic, weight_probability_dic, blood_type_probability_dic, DCM_probability_dic = {}, {}, {}, {}\n",
        "\n",
        "\n",
        "  # TODO: complete the code\n",
        "  hmm1 = HMM(['160', '170', '180', '190'], height_emissions, height_start_probabilities, height_transition_probabilities)\n",
        "  hmm2 = HMM(['50', '65', '80', '95'], weight_emissions, weight_start_probabilities, weight_transition_probabilities)\n",
        "  hmm3 = HMM(['O', 'A', 'B', 'AB'], blood_type_emissions, blood_type_start_probabilities, blood_type_transition_probabilities)\n",
        "  hmm4 = HMM(['Y', 'N'], DCM_emissions, DCM_start_probabilities, DCM_transition_probabilities)\n",
        "  list1 = hmm1.forward_algorithm(sequence)\n",
        "  index = 0\n",
        "  for state in ['160', '170', '180', '190']:\n",
        "    height_probability_dic[int(state)] = list1[index]\n",
        "    index += 1\n",
        "  list2 = hmm2.forward_algorithm(sequence)\n",
        "  index = 0\n",
        "  for state in ['50', '65', '80', '95']:\n",
        "    weight_probability_dic[int(state)] = list2[index]\n",
        "    index += 1\n",
        "  list3 = hmm3.forward_algorithm(sequence)\n",
        "  index = 0\n",
        "  for state in ['O', 'A', 'B', 'AB']:\n",
        "    blood_type_probability_dic[state] = list3[index]\n",
        "    index += 1\n",
        "  list4 = hmm4.forward_algorithm(sequence)\n",
        "  index = 0\n",
        "  for state in ['Y', 'N']:\n",
        "    DCM_probability_dic[state] = list4[index]\n",
        "    index += 1\n",
        "  return height_probability_dic, weight_probability_dic, blood_type_probability_dic, DCM_probability_dic\n",
        "\n"
      ],
      "metadata": {
        "id": "MKDBSoumfmb6"
      },
      "execution_count": 25,
      "outputs": []
    },
    {
      "cell_type": "code",
      "source": [
        "# Run this code to check your implementation\n",
        "# Example sequence of 'H' and 'L'\n",
        "sequence = \"HHLLHHHLLHLLLLHHLL\"\n",
        "\n",
        "height_probability, weight_probability, blood_type_probability, DCM_probability = probabilities_from_sequence(sequence)\n",
        "\n",
        "print(\"Probability of height given sequence:\", height_probability)\n",
        "print(\"Probability of weight given sequence:\", weight_probability)\n",
        "print(\"Probability of blood type given sequence:\", blood_type_probability)\n",
        "print(\"Probability of DCM given sequence:\", DCM_probability)"
      ],
      "metadata": {
        "colab": {
          "base_uri": "https://localhost:8080/"
        },
        "id": "vwGQ9QSAhEl5",
        "outputId": "40c9642c-1e79-43b5-e2a4-35563b603e1a"
      },
      "execution_count": 26,
      "outputs": [
        {
          "output_type": "stream",
          "name": "stdout",
          "text": [
            "Probability of height given sequence: {160: 0.36605931748711135, 170: 0.5760951509787055, 180: 0.015850353367627773, 190: 0.04199517816655549}\n",
            "Probability of weight given sequence: {50: 0.2845952908892867, 65: 0.42707075390249144, 80: 0.20957356322963908, 95: 0.07876039197858277}\n",
            "Probability of blood type given sequence: {'O': 0.29628284733090365, 'A': 0.3305080573190477, 'B': 0.08789883086305705, 'AB': 0.2853102644869917}\n",
            "Probability of DCM given sequence: {'Y': 0.3297758181008331, 'N': 0.6702241818991669}\n"
          ]
        }
      ]
    },
    {
      "cell_type": "markdown",
      "source": [
        "# Bayesian Network for Heart Disease Probability Calculation (30 points)\n",
        "\n",
        "In this section, we introduce a Bayesian network to calculate the probability of heart disease based on various features. We assume that the relationships between features follow a specific structure, depicted in the image below.\n",
        "\n",
        "![Bayesian Net](BN.png)\n",
        "\n",
        "The Bayesian network comprises nodes representing different features, including sex, weight, height, Dilated Cardiomyopathy (DCM), blood type, and heart disease. The directed edges between nodes indicate probabilistic dependencies between them.\n",
        "\n",
        "Function Implementation:\n",
        "We will implement two functions to facilitate the calculation of heart disease probability:\n",
        "\n",
        "1. calculate_sex_probability:\n",
        "\n",
        "  This function calculates the probability of sex based on the given probabilities of weight and height.\n",
        "\n",
        "2. calculate_heart_disease_probability:\n",
        "\n",
        "  This function computes the probability of heart disease based on the probabilities of sex, DCM, and blood type."
      ],
      "metadata": {
        "id": "EglKERkiKrZv"
      }
    },
    {
      "cell_type": "code",
      "source": [
        "# The probability of sex given height and weight, the tuple is in this order: (sex, height, weight)\n",
        "P_sex_given_hw = {\n",
        "    ('M', 160, 50): 0.7, ('F', 160, 50): 0.3,\n",
        "    ('M', 160, 65): 0.2, ('F', 160, 65): 0.8,\n",
        "    ('M', 160, 80): 0.3, ('F', 160, 80): 0.7,\n",
        "    ('M', 160, 95): 0.2, ('F', 160, 95): 0.8,\n",
        "    ('M', 170, 50): 0.8, ('F', 170, 50): 0.2,\n",
        "    ('M', 170, 65): 0.75, ('F', 170, 65): 0.25,\n",
        "    ('M', 170, 80): 0.4, ('F', 170, 80): 0.6,\n",
        "    ('M', 170, 95): 0.3, ('F', 170, 95): 0.7,\n",
        "    ('M', 180, 50): 0.9, ('F', 180, 50): 0.1,\n",
        "    ('M', 180, 65): 0.7, ('F', 180, 65): 0.3,\n",
        "    ('M', 180, 80): 0.65, ('F', 180, 80): 0.35,\n",
        "    ('M', 180, 95): 0.4, ('F', 180, 95): 0.6,\n",
        "    ('M', 190, 50): 0.95, ('F', 190, 50): 0.05,\n",
        "    ('M', 190, 65): 0.8, ('F', 190, 65): 0.2,\n",
        "    ('M', 190, 80): 0.6, ('F', 190, 80): 0.4,\n",
        "    ('M', 190, 95): 0.95, ('F', 190, 95): 0.05\n",
        "}"
      ],
      "metadata": {
        "id": "wi3Rz_6eOCpD"
      },
      "execution_count": 31,
      "outputs": []
    },
    {
      "cell_type": "code",
      "source": [
        "def calculate_sex_probability(height_prob: dict, weight_prob: dict) -> dict:\n",
        "    '''\n",
        "    This function, `calculate_sex_probability(height_prob, weight_prob)`, computes the probability of sex based on the probabilities of height and weight.\n",
        "\n",
        "    Parameters:\n",
        "    - height_prob: Dictionary containing probabilities for height categories.\n",
        "    - weight_prob: Dictionary containing probabilities for weight categories.\n",
        "\n",
        "    Returns:\n",
        "    - Dictionary containing probabilities for male (M) and female (F) sexes.\n",
        "    '''\n",
        "    # h_size = len(height_prob)\n",
        "    # w_size = len(weight_prob)\n",
        "    sex_dic = {'M': 0, 'F': 1}\n",
        "    sex_probability = np.zeros(2)\n",
        "    index = 0\n",
        "    for s,p_s in sex_dic.items():\n",
        "      sex_p = 0\n",
        "      for h,p_h in height_prob.items():\n",
        "        for w,p_w in weight_prob.items():\n",
        "          sex_p += p_h * p_w * P_sex_given_hw[(s,h,w)]\n",
        "      sex_probability[index] = sex_p\n",
        "      index += 1\n",
        "    return {'M': sex_probability[0], 'F':sex_probability[1]}\n"
      ],
      "metadata": {
        "id": "p_sCg50LOraD"
      },
      "execution_count": 32,
      "outputs": []
    },
    {
      "cell_type": "code",
      "source": [
        "# Run this code to test you implementation\n",
        "# Example probabilities of height\n",
        "P_height = {160: 0.1, 170: 0.3, 180: 0.4, 190: 0.2}\n",
        "# Example probabilities of weight\n",
        "P_weight = {50: 0.2, 65: 0.3, 80: 0.4, 95: 0.1}\n",
        "# Example conditional probabilities of sex given height and weight\n",
        "\n",
        "\n",
        "sex_probabilities = calculate_sex_probability(P_height, P_weight)\n",
        "print(\"Probability of sex:\", sex_probabilities)"
      ],
      "metadata": {
        "colab": {
          "base_uri": "https://localhost:8080/"
        },
        "id": "zChVjCjzOVoZ",
        "outputId": "844ed44f-c4a7-49a9-ee88-304e65acc9e9"
      },
      "execution_count": 33,
      "outputs": [
        {
          "output_type": "stream",
          "name": "stdout",
          "text": [
            "Probability of sex: {'M': 0.6355000000000002, 'F': 0.36450000000000005}\n"
          ]
        }
      ]
    },
    {
      "cell_type": "code",
      "source": [
        "# The probability of hear disease given sex, DCM and blood type, the tuple is in this order: (heart disease, sex, blood type, DCM)\n",
        "P_heart_disease_given_parents = {\n",
        "    ('N', 'M', 'O', 'Y'): 0.3, ('Y', 'M', 'O', 'Y'): 0.7,\n",
        "    ('N', 'M', 'A', 'Y'): 0.4, ('Y', 'M', 'A', 'Y'): 0.6,\n",
        "    ('N', 'M', 'B', 'Y'): 0.5, ('Y', 'M', 'B', 'Y'): 0.5,\n",
        "    ('N', 'M', 'AB', 'Y'): 0.6, ('Y', 'M', 'AB', 'Y'): 0.4,\n",
        "    ('N', 'F', 'O', 'Y'): 0.6, ('Y', 'F', 'O', 'Y'): 0.4,\n",
        "    ('N', 'F', 'A', 'Y'): 0.3, ('Y', 'F', 'A', 'Y'): 0.7,\n",
        "    ('N', 'F', 'B', 'Y'): 0.4, ('Y', 'F', 'B', 'Y'): 0.6,\n",
        "    ('N', 'F', 'AB', 'Y'): 0.7, ('Y', 'F', 'AB', 'Y'): 0.3,\n",
        "    ('N', 'M', 'O', 'N'): 0.6, ('Y', 'M', 'O', 'N'): 0.4,\n",
        "    ('N', 'M', 'A', 'N'): 0.15, ('Y', 'M', 'A', 'N'): 0.85,\n",
        "    ('N', 'M', 'B', 'N'): 0.4, ('Y', 'M', 'B', 'N'): 0.6,\n",
        "    ('N', 'M', 'AB', 'N'): 0.7, ('Y', 'M', 'AB', 'N'): 0.3,\n",
        "    ('N', 'F', 'O', 'N'): 0.8, ('Y', 'F', 'O', 'N'): 0.2,\n",
        "    ('N', 'F', 'A', 'N'): 0.7, ('Y', 'F', 'A', 'N'): 0.3,\n",
        "    ('N', 'F', 'B', 'N'): 0.65, ('Y', 'F', 'B', 'N'): 0.35,\n",
        "    ('N', 'F', 'AB', 'N'): 0.35, ('Y', 'F', 'AB', 'N'): 0.65,\n",
        "}"
      ],
      "metadata": {
        "id": "mRooypaNPDr5"
      },
      "execution_count": 34,
      "outputs": []
    },
    {
      "cell_type": "code",
      "source": [
        "def calculate_heart_disease_probability(DCM_prob: dict, sex_prob: dict, blood_type_prob: dict) -> dict:\n",
        "    '''\n",
        "    Function: Calculate Heart Disease Probability\n",
        "\n",
        "    This function, `calculate_heart_disease_probability(DCM_prob, sex_prob, blood_type_prob, heart_disease_given_parents)`, computes the probability of heart disease based on the probabilities of Dilated Cardiomyopathy (DCM), sex, and blood type.\n",
        "\n",
        "    Parameters:\n",
        "    - DCM_prob: Dictionary containing probabilities for DCM categories.\n",
        "    - sex_prob: Dictionary containing probabilities for sex categories.\n",
        "    - blood_type_prob: Dictionary containing probabilities for blood type categories.\n",
        "\n",
        "    Returns:\n",
        "    - Dictionary containing probabilities for the presence (Y) and absence (N) of heart disease.\n",
        "    '''\n",
        "\n",
        "    heart_disease_dic = {'Y': 0, 'N': 1}\n",
        "\n",
        "    heart_disease_probability = np.zeros(2)\n",
        "\n",
        "    # TODO: complete the code\n",
        "    index = 0\n",
        "    for hd,p_hd in heart_disease_dic.items():\n",
        "      hd_p = 0\n",
        "      for s,p_s in sex_prob.items():\n",
        "        for b,p_b in blood_type_prob.items():\n",
        "          for dcm,p_dcm in DCM_prob.items():\n",
        "            hd_p += p_s * p_b * p_dcm * P_heart_disease_given_parents[(hd,s,b,dcm)]\n",
        "      heart_disease_probability[index] = hd_p\n",
        "      index += 1\n",
        "\n",
        "    return {'Y':heart_disease_probability[0], 'N':heart_disease_probability[1]}\n"
      ],
      "metadata": {
        "id": "yIG7zuoyPiiN"
      },
      "execution_count": 35,
      "outputs": []
    },
    {
      "cell_type": "code",
      "source": [
        "# Run this code to test you implementation\n",
        "# Example probabilities of DCM\n",
        "P_DCM = {'Y': 0.2, 'N': 0.8}\n",
        "# Example probabilities of blood type\n",
        "P_blood_type = {'O': 0.4, 'A': 0.3, 'B': 0.2, 'AB': 0.1}\n",
        "# Example probabilities of sex\n",
        "P_sex = {'M': 0.3, 'F': 0.7}\n",
        "\n",
        "\n",
        "heart_disease_probabilities = calculate_heart_disease_probability(P_DCM, P_sex, P_blood_type)\n",
        "print(\"Probability of heart disease: \",heart_disease_probabilities)"
      ],
      "metadata": {
        "colab": {
          "base_uri": "https://localhost:8080/"
        },
        "id": "QA0XWltJPXJL",
        "outputId": "f49dbe5f-4e9e-470d-ca3f-02e584f61933"
      },
      "execution_count": 36,
      "outputs": [
        {
          "output_type": "stream",
          "name": "stdout",
          "text": [
            "Probability of heart disease:  {'Y': 0.41519999999999996, 'N': 0.5848}\n"
          ]
        }
      ]
    },
    {
      "cell_type": "markdown",
      "source": [
        "# Loading DNA Sequences and Heart Disease Probability Calculation (20 points)\n",
        "\n",
        "In this part, we will load the DNA sequences from the file DNA_patients.csv and calculate the probability of heart disease for each patient. Subsequently, we will classify the patients based on their heart disease probability and save the data."
      ],
      "metadata": {
        "id": "i-T4axv2P2n3"
      }
    },
    {
      "cell_type": "code",
      "source": [
        "# Read the CSV file into a DataFrame\n",
        "df = pd.read_csv('DNA_patients.csv')\n",
        "\n",
        "df.head()"
      ],
      "metadata": {
        "colab": {
          "base_uri": "https://localhost:8080/",
          "height": 206
        },
        "id": "AdJEmpbNSuV9",
        "outputId": "01007482-e53c-47a6-cdaa-7c0c161deabb"
      },
      "execution_count": 37,
      "outputs": [
        {
          "output_type": "execute_result",
          "data": {
            "text/plain": [
              "   ID                                                DNA\n",
              "0   1  CTCCAATACCCCCCACAAGAACACACCCATAAAATTGCAACCCACA...\n",
              "1   2  TTGATGTAGAAGTATATTTGTTGGGTATTTGAGGTAACGTTATTAG...\n",
              "2   3  ATATAATTTAAAGTCACTGGAAAAAAACAACCTAATAAAAACCACC...\n",
              "3   4  TAAAGACAAAATTAAATTGAAGTAATGTTATGTTAAAATTTTGAAT...\n",
              "4   5  AGCGTTTGTTCGTTAGCCGTAGGCAATGACGTGATTCAGGTCTGTG..."
            ],
            "text/html": [
              "\n",
              "  <div id=\"df-c7624475-3818-4aee-b4e8-623d226cf646\" class=\"colab-df-container\">\n",
              "    <div>\n",
              "<style scoped>\n",
              "    .dataframe tbody tr th:only-of-type {\n",
              "        vertical-align: middle;\n",
              "    }\n",
              "\n",
              "    .dataframe tbody tr th {\n",
              "        vertical-align: top;\n",
              "    }\n",
              "\n",
              "    .dataframe thead th {\n",
              "        text-align: right;\n",
              "    }\n",
              "</style>\n",
              "<table border=\"1\" class=\"dataframe\">\n",
              "  <thead>\n",
              "    <tr style=\"text-align: right;\">\n",
              "      <th></th>\n",
              "      <th>ID</th>\n",
              "      <th>DNA</th>\n",
              "    </tr>\n",
              "  </thead>\n",
              "  <tbody>\n",
              "    <tr>\n",
              "      <th>0</th>\n",
              "      <td>1</td>\n",
              "      <td>CTCCAATACCCCCCACAAGAACACACCCATAAAATTGCAACCCACA...</td>\n",
              "    </tr>\n",
              "    <tr>\n",
              "      <th>1</th>\n",
              "      <td>2</td>\n",
              "      <td>TTGATGTAGAAGTATATTTGTTGGGTATTTGAGGTAACGTTATTAG...</td>\n",
              "    </tr>\n",
              "    <tr>\n",
              "      <th>2</th>\n",
              "      <td>3</td>\n",
              "      <td>ATATAATTTAAAGTCACTGGAAAAAAACAACCTAATAAAAACCACC...</td>\n",
              "    </tr>\n",
              "    <tr>\n",
              "      <th>3</th>\n",
              "      <td>4</td>\n",
              "      <td>TAAAGACAAAATTAAATTGAAGTAATGTTATGTTAAAATTTTGAAT...</td>\n",
              "    </tr>\n",
              "    <tr>\n",
              "      <th>4</th>\n",
              "      <td>5</td>\n",
              "      <td>AGCGTTTGTTCGTTAGCCGTAGGCAATGACGTGATTCAGGTCTGTG...</td>\n",
              "    </tr>\n",
              "  </tbody>\n",
              "</table>\n",
              "</div>\n",
              "    <div class=\"colab-df-buttons\">\n",
              "\n",
              "  <div class=\"colab-df-container\">\n",
              "    <button class=\"colab-df-convert\" onclick=\"convertToInteractive('df-c7624475-3818-4aee-b4e8-623d226cf646')\"\n",
              "            title=\"Convert this dataframe to an interactive table.\"\n",
              "            style=\"display:none;\">\n",
              "\n",
              "  <svg xmlns=\"http://www.w3.org/2000/svg\" height=\"24px\" viewBox=\"0 -960 960 960\">\n",
              "    <path d=\"M120-120v-720h720v720H120Zm60-500h600v-160H180v160Zm220 220h160v-160H400v160Zm0 220h160v-160H400v160ZM180-400h160v-160H180v160Zm440 0h160v-160H620v160ZM180-180h160v-160H180v160Zm440 0h160v-160H620v160Z\"/>\n",
              "  </svg>\n",
              "    </button>\n",
              "\n",
              "  <style>\n",
              "    .colab-df-container {\n",
              "      display:flex;\n",
              "      gap: 12px;\n",
              "    }\n",
              "\n",
              "    .colab-df-convert {\n",
              "      background-color: #E8F0FE;\n",
              "      border: none;\n",
              "      border-radius: 50%;\n",
              "      cursor: pointer;\n",
              "      display: none;\n",
              "      fill: #1967D2;\n",
              "      height: 32px;\n",
              "      padding: 0 0 0 0;\n",
              "      width: 32px;\n",
              "    }\n",
              "\n",
              "    .colab-df-convert:hover {\n",
              "      background-color: #E2EBFA;\n",
              "      box-shadow: 0px 1px 2px rgba(60, 64, 67, 0.3), 0px 1px 3px 1px rgba(60, 64, 67, 0.15);\n",
              "      fill: #174EA6;\n",
              "    }\n",
              "\n",
              "    .colab-df-buttons div {\n",
              "      margin-bottom: 4px;\n",
              "    }\n",
              "\n",
              "    [theme=dark] .colab-df-convert {\n",
              "      background-color: #3B4455;\n",
              "      fill: #D2E3FC;\n",
              "    }\n",
              "\n",
              "    [theme=dark] .colab-df-convert:hover {\n",
              "      background-color: #434B5C;\n",
              "      box-shadow: 0px 1px 3px 1px rgba(0, 0, 0, 0.15);\n",
              "      filter: drop-shadow(0px 1px 2px rgba(0, 0, 0, 0.3));\n",
              "      fill: #FFFFFF;\n",
              "    }\n",
              "  </style>\n",
              "\n",
              "    <script>\n",
              "      const buttonEl =\n",
              "        document.querySelector('#df-c7624475-3818-4aee-b4e8-623d226cf646 button.colab-df-convert');\n",
              "      buttonEl.style.display =\n",
              "        google.colab.kernel.accessAllowed ? 'block' : 'none';\n",
              "\n",
              "      async function convertToInteractive(key) {\n",
              "        const element = document.querySelector('#df-c7624475-3818-4aee-b4e8-623d226cf646');\n",
              "        const dataTable =\n",
              "          await google.colab.kernel.invokeFunction('convertToInteractive',\n",
              "                                                    [key], {});\n",
              "        if (!dataTable) return;\n",
              "\n",
              "        const docLinkHtml = 'Like what you see? Visit the ' +\n",
              "          '<a target=\"_blank\" href=https://colab.research.google.com/notebooks/data_table.ipynb>data table notebook</a>'\n",
              "          + ' to learn more about interactive tables.';\n",
              "        element.innerHTML = '';\n",
              "        dataTable['output_type'] = 'display_data';\n",
              "        await google.colab.output.renderOutput(dataTable, element);\n",
              "        const docLink = document.createElement('div');\n",
              "        docLink.innerHTML = docLinkHtml;\n",
              "        element.appendChild(docLink);\n",
              "      }\n",
              "    </script>\n",
              "  </div>\n",
              "\n",
              "\n",
              "<div id=\"df-f0f819cb-36f7-413b-9b44-ac2f4b68eeda\">\n",
              "  <button class=\"colab-df-quickchart\" onclick=\"quickchart('df-f0f819cb-36f7-413b-9b44-ac2f4b68eeda')\"\n",
              "            title=\"Suggest charts\"\n",
              "            style=\"display:none;\">\n",
              "\n",
              "<svg xmlns=\"http://www.w3.org/2000/svg\" height=\"24px\"viewBox=\"0 0 24 24\"\n",
              "     width=\"24px\">\n",
              "    <g>\n",
              "        <path d=\"M19 3H5c-1.1 0-2 .9-2 2v14c0 1.1.9 2 2 2h14c1.1 0 2-.9 2-2V5c0-1.1-.9-2-2-2zM9 17H7v-7h2v7zm4 0h-2V7h2v10zm4 0h-2v-4h2v4z\"/>\n",
              "    </g>\n",
              "</svg>\n",
              "  </button>\n",
              "\n",
              "<style>\n",
              "  .colab-df-quickchart {\n",
              "      --bg-color: #E8F0FE;\n",
              "      --fill-color: #1967D2;\n",
              "      --hover-bg-color: #E2EBFA;\n",
              "      --hover-fill-color: #174EA6;\n",
              "      --disabled-fill-color: #AAA;\n",
              "      --disabled-bg-color: #DDD;\n",
              "  }\n",
              "\n",
              "  [theme=dark] .colab-df-quickchart {\n",
              "      --bg-color: #3B4455;\n",
              "      --fill-color: #D2E3FC;\n",
              "      --hover-bg-color: #434B5C;\n",
              "      --hover-fill-color: #FFFFFF;\n",
              "      --disabled-bg-color: #3B4455;\n",
              "      --disabled-fill-color: #666;\n",
              "  }\n",
              "\n",
              "  .colab-df-quickchart {\n",
              "    background-color: var(--bg-color);\n",
              "    border: none;\n",
              "    border-radius: 50%;\n",
              "    cursor: pointer;\n",
              "    display: none;\n",
              "    fill: var(--fill-color);\n",
              "    height: 32px;\n",
              "    padding: 0;\n",
              "    width: 32px;\n",
              "  }\n",
              "\n",
              "  .colab-df-quickchart:hover {\n",
              "    background-color: var(--hover-bg-color);\n",
              "    box-shadow: 0 1px 2px rgba(60, 64, 67, 0.3), 0 1px 3px 1px rgba(60, 64, 67, 0.15);\n",
              "    fill: var(--button-hover-fill-color);\n",
              "  }\n",
              "\n",
              "  .colab-df-quickchart-complete:disabled,\n",
              "  .colab-df-quickchart-complete:disabled:hover {\n",
              "    background-color: var(--disabled-bg-color);\n",
              "    fill: var(--disabled-fill-color);\n",
              "    box-shadow: none;\n",
              "  }\n",
              "\n",
              "  .colab-df-spinner {\n",
              "    border: 2px solid var(--fill-color);\n",
              "    border-color: transparent;\n",
              "    border-bottom-color: var(--fill-color);\n",
              "    animation:\n",
              "      spin 1s steps(1) infinite;\n",
              "  }\n",
              "\n",
              "  @keyframes spin {\n",
              "    0% {\n",
              "      border-color: transparent;\n",
              "      border-bottom-color: var(--fill-color);\n",
              "      border-left-color: var(--fill-color);\n",
              "    }\n",
              "    20% {\n",
              "      border-color: transparent;\n",
              "      border-left-color: var(--fill-color);\n",
              "      border-top-color: var(--fill-color);\n",
              "    }\n",
              "    30% {\n",
              "      border-color: transparent;\n",
              "      border-left-color: var(--fill-color);\n",
              "      border-top-color: var(--fill-color);\n",
              "      border-right-color: var(--fill-color);\n",
              "    }\n",
              "    40% {\n",
              "      border-color: transparent;\n",
              "      border-right-color: var(--fill-color);\n",
              "      border-top-color: var(--fill-color);\n",
              "    }\n",
              "    60% {\n",
              "      border-color: transparent;\n",
              "      border-right-color: var(--fill-color);\n",
              "    }\n",
              "    80% {\n",
              "      border-color: transparent;\n",
              "      border-right-color: var(--fill-color);\n",
              "      border-bottom-color: var(--fill-color);\n",
              "    }\n",
              "    90% {\n",
              "      border-color: transparent;\n",
              "      border-bottom-color: var(--fill-color);\n",
              "    }\n",
              "  }\n",
              "</style>\n",
              "\n",
              "  <script>\n",
              "    async function quickchart(key) {\n",
              "      const quickchartButtonEl =\n",
              "        document.querySelector('#' + key + ' button');\n",
              "      quickchartButtonEl.disabled = true;  // To prevent multiple clicks.\n",
              "      quickchartButtonEl.classList.add('colab-df-spinner');\n",
              "      try {\n",
              "        const charts = await google.colab.kernel.invokeFunction(\n",
              "            'suggestCharts', [key], {});\n",
              "      } catch (error) {\n",
              "        console.error('Error during call to suggestCharts:', error);\n",
              "      }\n",
              "      quickchartButtonEl.classList.remove('colab-df-spinner');\n",
              "      quickchartButtonEl.classList.add('colab-df-quickchart-complete');\n",
              "    }\n",
              "    (() => {\n",
              "      let quickchartButtonEl =\n",
              "        document.querySelector('#df-f0f819cb-36f7-413b-9b44-ac2f4b68eeda button');\n",
              "      quickchartButtonEl.style.display =\n",
              "        google.colab.kernel.accessAllowed ? 'block' : 'none';\n",
              "    })();\n",
              "  </script>\n",
              "</div>\n",
              "    </div>\n",
              "  </div>\n"
            ],
            "application/vnd.google.colaboratory.intrinsic+json": {
              "type": "dataframe",
              "variable_name": "df",
              "summary": "{\n  \"name\": \"df\",\n  \"rows\": 1000,\n  \"fields\": [\n    {\n      \"column\": \"ID\",\n      \"properties\": {\n        \"dtype\": \"number\",\n        \"std\": 288,\n        \"min\": 1,\n        \"max\": 1000,\n        \"num_unique_values\": 1000,\n        \"samples\": [\n          522,\n          738,\n          741\n        ],\n        \"semantic_type\": \"\",\n        \"description\": \"\"\n      }\n    },\n    {\n      \"column\": \"DNA\",\n      \"properties\": {\n        \"dtype\": \"string\",\n        \"num_unique_values\": 1000,\n        \"samples\": [\n          \"AAGGTTTTGTTCGTTGGTTAGTCTATTATGGAAATAGGGTTGTAGTTTGTAGGGTATTTTTGATGATACGGTAGGTTAAGGTTTGTGACTGAAGTTGCAA\",\n          \"ACAACAACCCTCGAGTCTGAGCTCCACGGACCCCACGTGCCGCAAGCCCACCCTCCACACCATCGGAACCTCTCAACTATCTTTAACGTTAGCATCCCAC\",\n          \"CGCGGGGGAGGATCGTCTGCGTCGGTCGGACCGCCCTCGCCCCGCAACACTGTTCGCTAGTGTCTTCCATCTGCCGCCAGGGAGCGTGATGGCATGCGGG\"\n        ],\n        \"semantic_type\": \"\",\n        \"description\": \"\"\n      }\n    }\n  ]\n}"
            }
          },
          "metadata": {},
          "execution_count": 37
        }
      ]
    },
    {
      "cell_type": "code",
      "source": [
        "# TODO: complete the code\n",
        "# Extract DNA sequences and store them in a list\n",
        "DNAs = df['DNA']\n",
        "\n",
        "states = ['H', 'L']\n",
        "emissions = [{'A' : 0.2, 'C' : 0.3, 'G' : 0.3, 'T' : 0.2},\n",
        "             {'A' : 0.3, 'C' : 0.2, 'G' : 0.2, 'T' : 0.3}]\n",
        "start_probabilities = [0.5, 0.5]\n",
        "transition_probabilities = [[0.5 , 0.5] , [0.4 , 0.6]]\n",
        "\n",
        "hmm = HMM(states, emissions, start_probabilities, transition_probabilities)\n",
        "\n",
        "GC_content_seqs = []\n",
        "\n",
        "for seq in DNAs:\n",
        "  path, max_probability = hmm.viterbi(seq)\n",
        "  GC_content_seqs.append(path)"
      ],
      "metadata": {
        "id": "0983HNjhlDa1"
      },
      "execution_count": 40,
      "outputs": []
    },
    {
      "cell_type": "code",
      "source": [
        "# TODO: complete the code, classify the Patients as 1 if the probability of heart disease is more that 0.5 and 0 otherwise\n",
        "heart_disease_classified = []\n",
        "for seq in GC_content_seqs:\n",
        "  height_probability, weight_probability, blood_type_probability, DCM_probability = probabilities_from_sequence(seq)\n",
        "  sex_probabilities = calculate_sex_probability(height_probability, weight_probability)\n",
        "  heart_disease_probabilities = calculate_heart_disease_probability(DCM_probability, sex_probabilities, blood_type_probability)\n",
        "  if heart_disease_probabilities['Y'] > 0.5:\n",
        "    heart_disease_classified.append(1)\n",
        "  else:\n",
        "    heart_disease_classified.append(0)"
      ],
      "metadata": {
        "id": "-65oY4N5lqHk"
      },
      "execution_count": 44,
      "outputs": []
    },
    {
      "cell_type": "code",
      "source": [
        "# Write the result to CSV\n",
        "labels = [(i+1, heart_disease_classified[i]) for i in range(len(heart_disease_classified))]\n",
        "csv_filename = \"heart_disease_result.csv\"\n",
        "with open(csv_filename, mode='w', newline='') as file:\n",
        "    writer = csv.writer(file)\n",
        "    writer.writerow(['ID', 'Label'])\n",
        "    for id, label in labels:\n",
        "        writer.writerow([id, label])"
      ],
      "metadata": {
        "id": "GU9WNiH7W6y-"
      },
      "execution_count": 45,
      "outputs": []
    },
    {
      "cell_type": "markdown",
      "source": [
        "**Note: You should upload heart_disease_result.csv along side your notebook.**"
      ],
      "metadata": {
        "id": "w1nu_AHq1E4g"
      }
    }
  ]
}