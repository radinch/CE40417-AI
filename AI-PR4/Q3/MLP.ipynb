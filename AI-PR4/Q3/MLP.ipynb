{
  "cells": [
    {
      "cell_type": "markdown",
      "metadata": {
        "id": "zGMBD3NSuuwC"
      },
      "source": [
        "\n",
        "<br>\n",
        "<font>\n",
        "<div dir=ltr align=center>\n",
        "<img src=\"https://cdn.freebiesupply.com/logos/large/2x/sharif-logo-png-transparent.png\" width=150 height=150> <br>\n",
        "<font color=0F5298 size=7>\n",
        "Artificial Intelligence <br>\n",
        "<font color=2565AE size=5>\n",
        "Computer Engineering Department <br>\n",
        "Spring 2024<br>\n",
        "<font color=3C99D size=5>\n",
        "Practical Assignment 4 - Multilayer Perceptron <br>\n",
        "<font color=696880 size=4>\n",
        "Sina Namazi\n",
        "\n",
        "\n",
        "____"
      ]
    },
    {
      "cell_type": "markdown",
      "metadata": {
        "id": "NyOqiSE5uuwH"
      },
      "source": [
        "## Personal Data\n",
        "\n",
        "Please fill in your details below to help us keep track of your submission."
      ]
    },
    {
      "cell_type": "code",
      "execution_count": 1,
      "metadata": {
        "id": "RCP5174wuuwK"
      },
      "outputs": [],
      "source": [
        "student_number = '401105815'\n",
        "Name = 'Radin'\n",
        "Last_Name = 'Cheraghi'"
      ]
    },
    {
      "cell_type": "markdown",
      "metadata": {
        "id": "4h_nGU_nuuwO"
      },
      "source": [
        "## Libraries"
      ]
    },
    {
      "cell_type": "code",
      "execution_count": 2,
      "metadata": {
        "id": "Xtcx5UwiuuwP"
      },
      "outputs": [],
      "source": [
        "from tqdm import tqdm\n",
        "import numpy as np\n",
        "import matplotlib.pyplot as plt\n",
        "\n",
        "import torch\n",
        "import torchvision\n",
        "import torchvision.transforms as transforms"
      ]
    },
    {
      "cell_type": "markdown",
      "metadata": {
        "id": "4FgjWK16uuwR"
      },
      "source": [
        "## Introduction:\n",
        "\n",
        "In this Notebook, we introduce the fundamental concepts of neural networks, focusing specifically on the architecture and functionality of Multilayer Perceptrons (MLPs). MLPs are a class of feedforward artificial neural networks that consist of multiple layers of nodes, each layer fully connected to the next. These networks are widely used for a variety of machine learning tasks, including classification and regression. The core idea behind MLPs is to learn complex functions by adjusting the weights and biases of the network through a process known as training, typically involving backpropagation and an optimization algorithm like gradient descent.\n",
        "\n",
        "\n",
        "To provide a practical context to these concepts, we will be working with the MNIST dataset, a large collection of handwritten digits commonly used for training and testing in the field of machine learning. The dataset consists of 60,000 training images and 10,000 test images, each being a 28x28 pixel grayscale image of digits ranging from 0 to 9. The simplicity and size of the MNIST dataset make it an excellent choice for exploring and understanding the mechanics of neural networks, particularly in recognizing patterns and classifying images. Throughout this notebook, we will apply MLPs to this dataset, exploring every step of the process from data preparation and exploration to model training and evaluation."
      ]
    },
    {
      "cell_type": "markdown",
      "metadata": {
        "id": "707RhN2VuuwT"
      },
      "source": [
        "## Getting the Data\n",
        "\n",
        "\n",
        "The following Python cell performs two primary actions: it loads the MNIST dataset and then splits it into two distinct sets - one for training and one for testing.\n",
        "\n",
        "- `X_train, Y_train`: These variables represent the training set. `X_train` contains the images of handwritten digits, and `Y_train` contains the corresponding labels that indicate the actual digit each image represents (0 through 9).\n",
        "- `X_test, Y_test`: Similarly, these variables represent the test set. `X_test` includes the images reserved for testing the model's performance, while `Y_test` contains the labels for these images.\n",
        "\n",
        "By executing the next cell, you will download the dataset and prepare these variables.\n",
        "\n",
        "**There is no need to change the following cell.**\n"
      ]
    },
    {
      "cell_type": "code",
      "execution_count": 3,
      "metadata": {
        "colab": {
          "base_uri": "https://localhost:8080/"
        },
        "id": "IaByyC38uuwV",
        "outputId": "d7cab956-e587-42ec-898a-89a6fd0e47da"
      },
      "outputs": [
        {
          "output_type": "stream",
          "name": "stdout",
          "text": [
            "Downloading http://yann.lecun.com/exdb/mnist/train-images-idx3-ubyte.gz\n",
            "Failed to download (trying next):\n",
            "HTTP Error 403: Forbidden\n",
            "\n",
            "Downloading https://ossci-datasets.s3.amazonaws.com/mnist/train-images-idx3-ubyte.gz\n",
            "Downloading https://ossci-datasets.s3.amazonaws.com/mnist/train-images-idx3-ubyte.gz to ./data/MNIST/raw/train-images-idx3-ubyte.gz\n"
          ]
        },
        {
          "output_type": "stream",
          "name": "stderr",
          "text": [
            "100%|██████████| 9912422/9912422 [00:00<00:00, 42475425.71it/s]\n"
          ]
        },
        {
          "output_type": "stream",
          "name": "stdout",
          "text": [
            "Extracting ./data/MNIST/raw/train-images-idx3-ubyte.gz to ./data/MNIST/raw\n",
            "\n",
            "Downloading http://yann.lecun.com/exdb/mnist/train-labels-idx1-ubyte.gz\n",
            "Failed to download (trying next):\n",
            "HTTP Error 403: Forbidden\n",
            "\n",
            "Downloading https://ossci-datasets.s3.amazonaws.com/mnist/train-labels-idx1-ubyte.gz\n",
            "Downloading https://ossci-datasets.s3.amazonaws.com/mnist/train-labels-idx1-ubyte.gz to ./data/MNIST/raw/train-labels-idx1-ubyte.gz\n"
          ]
        },
        {
          "output_type": "stream",
          "name": "stderr",
          "text": [
            "100%|██████████| 28881/28881 [00:00<00:00, 1073878.95it/s]\n"
          ]
        },
        {
          "output_type": "stream",
          "name": "stdout",
          "text": [
            "Extracting ./data/MNIST/raw/train-labels-idx1-ubyte.gz to ./data/MNIST/raw\n",
            "\n",
            "Downloading http://yann.lecun.com/exdb/mnist/t10k-images-idx3-ubyte.gz\n",
            "Failed to download (trying next):\n",
            "HTTP Error 403: Forbidden\n",
            "\n",
            "Downloading https://ossci-datasets.s3.amazonaws.com/mnist/t10k-images-idx3-ubyte.gz\n",
            "Downloading https://ossci-datasets.s3.amazonaws.com/mnist/t10k-images-idx3-ubyte.gz to ./data/MNIST/raw/t10k-images-idx3-ubyte.gz\n"
          ]
        },
        {
          "output_type": "stream",
          "name": "stderr",
          "text": [
            "100%|██████████| 1648877/1648877 [00:00<00:00, 9644168.92it/s]\n"
          ]
        },
        {
          "output_type": "stream",
          "name": "stdout",
          "text": [
            "Extracting ./data/MNIST/raw/t10k-images-idx3-ubyte.gz to ./data/MNIST/raw\n",
            "\n",
            "Downloading http://yann.lecun.com/exdb/mnist/t10k-labels-idx1-ubyte.gz\n",
            "Failed to download (trying next):\n",
            "HTTP Error 403: Forbidden\n",
            "\n",
            "Downloading https://ossci-datasets.s3.amazonaws.com/mnist/t10k-labels-idx1-ubyte.gz\n",
            "Downloading https://ossci-datasets.s3.amazonaws.com/mnist/t10k-labels-idx1-ubyte.gz to ./data/MNIST/raw/t10k-labels-idx1-ubyte.gz\n"
          ]
        },
        {
          "output_type": "stream",
          "name": "stderr",
          "text": [
            "100%|██████████| 4542/4542 [00:00<00:00, 3845484.21it/s]"
          ]
        },
        {
          "output_type": "stream",
          "name": "stdout",
          "text": [
            "Extracting ./data/MNIST/raw/t10k-labels-idx1-ubyte.gz to ./data/MNIST/raw\n",
            "\n"
          ]
        },
        {
          "output_type": "stream",
          "name": "stderr",
          "text": [
            "\n"
          ]
        }
      ],
      "source": [
        "# Load the MNIST dataset\n",
        "transform = transforms.Compose([\n",
        "    transforms.ToTensor()\n",
        "])\n",
        "\n",
        "trainset = torchvision.datasets.MNIST(root='./data', train=True, download=True)\n",
        "testset = torchvision.datasets.MNIST(root='./data', train=False, download=True)\n",
        "\n",
        "X_train_torch = trainset.data\n",
        "Y_train_torch = trainset.targets\n",
        "\n",
        "X_test_torch = testset.data\n",
        "Y_test_torch = testset.targets\n",
        "\n",
        "\n",
        "\n",
        "# Training Images:\n",
        "X_train = X_train_torch.numpy()\n",
        "# Training Labels:\n",
        "Y_train = Y_train_torch.numpy()\n",
        "\n",
        "# Test Images:\n",
        "X_test = X_test_torch.numpy()\n",
        "# Test Labels:\n",
        "Y_test = Y_test_torch.numpy()"
      ]
    },
    {
      "cell_type": "markdown",
      "metadata": {
        "id": "5MXvkKW3uuwY"
      },
      "source": [
        "## Exploratory Data Analysis: (5 Points)\n",
        "\n",
        "Before diving into model building, it's crucial to perform an exploratory data analysis (EDA) to understand the characteristics and structure of the dataset at hand. EDA involves visualizing the data, identifying patterns, understanding the distribution of variables, and spotting any anomalies or outliers. This step not only helps in making informed decisions about data preprocessing and model design but also provides insights that could be useful for feature engineering.\n",
        "\n",
        "Here are two examples of EDA for the MNIST dataset, which consists of handwritten digits:\n",
        "\n",
        "1. **Visualizing Sample Images**:\n",
        "   - Display a few sample images from the dataset to get a sense of what the handwritten digits look like. This can help in understanding the variety of handwriting styles and the clarity of images.\n",
        "\n",
        "</br>\n",
        "\n",
        "2. **Checking the Distribution of Classes**:\n",
        "   - Plot the frequency of each digit (0-9) in the dataset to check if the dataset is balanced. This is crucial as an imbalanced dataset may need special treatment during training, such as class weighting or resampling techniques."
      ]
    },
    {
      "cell_type": "code",
      "execution_count": 20,
      "metadata": {
        "colab": {
          "base_uri": "https://localhost:8080/",
          "height": 678
        },
        "id": "enAVkk8cuuwb",
        "outputId": "89a2f10a-3b50-489a-af54-8ab7b3a184bb"
      },
      "outputs": [
        {
          "output_type": "display_data",
          "data": {
            "text/plain": [
              "<Figure size 2000x500 with 8 Axes>"
            ],
            "image/png": "[encoded data removed]"
          },
          "metadata": {}
        },
        {
          "output_type": "display_data",
          "data": {
            "text/plain": [
              "<Figure size 640x480 with 1 Axes>"
            ],
            "image/png": "[encoded data removed]"
          },
          "metadata": {}
        }
      ],
      "source": [
        "# Exploratory data analysis\n",
        "# TODO\n",
        "\n",
        "# Visualizing Sample Images\n",
        "fig, axes = plt.subplots(1, 8, figsize=(20, 5))\n",
        "for i in range(8):\n",
        "  axes[i].imshow(X_train[i], cmap = 'gray')\n",
        "  axes[i].axis(False)\n",
        "  axes[i].set_title(f'Label: {Y_train[i]}')\n",
        "plt.show()\n",
        "\n",
        "# Checking distribution of classes\n",
        "labels,frequencies = np.unique(Y_train, return_counts= True)\n",
        "plt.hist(labels, weights=frequencies, bins=len(labels), edgecolor='black', alpha=0.7)\n",
        "\n",
        "# Add title and labels\n",
        "plt.title('Histogram of Frequencies for Digits')\n",
        "plt.xlabel('Digit')\n",
        "plt.ylabel('Frequency')\n",
        "\n",
        "# Show the plot\n",
        "plt.show()"
      ]
    },
    {
      "cell_type": "markdown",
      "metadata": {
        "id": "0lC8MR93uuwc"
      },
      "source": [
        "## Data Split: (5 Points)\n",
        "\n",
        "To evaluate the performance of our MLP model effectively, we divide the dataset into three distinct sets: training, validation, and test sets. The training set is used to train the model, where the model learns to make predictions by adjusting its parameters. The validation set is used to fine-tune the hyperparameters and make informed decisions about the model architecture without overfitting to the training data. Finally, the test set is utilized to assess the model's performance on unseen data, providing an unbiased evaluation of its ability to generalize.\n",
        "\n",
        "In the next cell, you should take the initial training set `(X_train, Y_train)` and further split it into validation `(X_val, Y_val)` and revised training sets `(X_train, Y_train)` using a 1:5 ratio. This process ensures that we have a separate dataset to validate the model's performance during the training phase, helping us to avoid overfitting and ensuring that our model generalizes well to new, unseen data."
      ]
    },
    {
      "cell_type": "code",
      "execution_count": 21,
      "metadata": {
        "id": "zeh_kCCeuuwe"
      },
      "outputs": [],
      "source": [
        "# Train, Validation, Test split\n",
        "# TODO\n",
        "from sklearn.model_selection import train_test_split\n",
        "X_train, X_val, Y_train, Y_val = train_test_split(X_train, Y_train, test_size=1/6, random_state=42)"
      ]
    },
    {
      "cell_type": "markdown",
      "metadata": {
        "id": "mYWngFO9uuwf"
      },
      "source": [
        "## Preparation of the Data:\n",
        "\n",
        "Data preparation is a critical step in the machine learning pipeline. This process includes cleaning the data, handling missing values, normalizing or standardizing the data, and reshaping it into a format suitable for the neural network. Proper data preparation ensures that the model learns effectively and achieves high performance.\n",
        "\n",
        "In the next cell, we will focus on preparing the MNIST dataset for our MLP model. Given that the MNIST images are grayscale with pixel values ranging from 0 to 255, we will start by normalizing these values to a range of 0 to 1. This normalization helps in speeding up the convergence of the neural network by providing a consistent scale of input values. Additionally, we will reshape the images from their original 2D shape (28x28 pixels) into a flat 1D vector of 784 elements. This step is necessary because our MLP model expects input vectors of a fixed size.\n",
        "\n",
        "**There is no need to change the following cell.**\n"
      ]
    },
    {
      "cell_type": "code",
      "execution_count": 22,
      "metadata": {
        "id": "RcW5kx60uuwg"
      },
      "outputs": [],
      "source": [
        "# Normalize the images\n",
        "X_train = X_train / 255\n",
        "X_val = X_val / 255\n",
        "X_test = X_test / 255\n",
        "\n",
        "# Flatten the images\n",
        "X_train = X_train.reshape(X_train.shape[0], -1)\n",
        "X_val = X_val.reshape(X_val.shape[0], -1)\n",
        "X_test = X_test.reshape(X_test.shape[0], -1)"
      ]
    },
    {
      "cell_type": "markdown",
      "metadata": {
        "id": "GHO0nN-tuuwi"
      },
      "source": [
        "## Preparation of Model Parameters:\n",
        "\n",
        "Initializing the parameters of an MLP, including weights and biases, is an important step that can significantly affect the model's learning process. Proper initialization can help in preventing issues related to vanishing or exploding gradients, thereby ensuring a stable and efficient training process.\n",
        "\n",
        "In the next cell, we define the architecture of our neural network and initialize its weights and biases. Our network consists of an input layer, three hidden layers, and an output layer, structured as follows:\n",
        "\n",
        "- `n_inp`: Represents the number of neurons in the input layer, determined by the number of features in `X_train`.\n",
        "- `n_hid1`, `n_hid2`, `n_hid3`: Denote the number of neurons in the first, second, and third hidden layers, respectively, set to 256, 128, and 64 for a progressively narrowing architecture.\n",
        "- `n_out`: The number of neurons in the output layer, set to 10, corresponding to the number of possible classifications (for example, digits 0-9 in the MNIST dataset).\n",
        "\n",
        "For each layer, we initialize the weights and biases as follows:\n",
        "- `W1`, `W2`, `W3`, `W4`: Weight matrices for the first, second, third, and output layers, initialized with small random values drawn from a normal distribution, scaled by 0.01 to keep the values small.\n",
        "- `B1`, `B2`, `B3`, `B4`: Bias vectors for each layer, also initialized with small random values, similarly scaled.\n",
        "\n",
        "A random seed (`manual_seed(42)`) is set for reproducibility, ensuring that the random numbers generated are the same each time the code is run. This aids in debugging and comparing model performances across different runs.\n",
        "\n",
        "**There is no need to change the following cell.**"
      ]
    },
    {
      "cell_type": "code",
      "execution_count": 23,
      "metadata": {
        "id": "xazQetWwuuwj"
      },
      "outputs": [],
      "source": [
        "# Defining the Sizes of the Layers\n",
        "n_inp = X_train.shape[1]\n",
        "n_hid1 = 256\n",
        "n_hid2 = 128\n",
        "n_hid3 = 64\n",
        "n_out = 10\n",
        "\n",
        "# Seed for Reproducibility\n",
        "g = torch.Generator().manual_seed(42)\n",
        "\n",
        "# Weights and Biases of the First Layer:\n",
        "W1 = torch.randn(n_inp, n_hid1, generator=g, requires_grad=True) * 0.01\n",
        "B1 = torch.randn(1, n_hid1, generator=g, requires_grad=True) * 0.01\n",
        "\n",
        "# Weights and Biases of the Second Layer:\n",
        "W2 = torch.randn(n_hid1, n_hid2, generator=g, requires_grad=True) * 0.01\n",
        "B2 = torch.randn(1, n_hid2, generator=g, requires_grad=True) * 0.01\n",
        "\n",
        "# Weights and Biases of the Third Layer:\n",
        "W3 = torch.randn(n_hid2, n_hid3, generator=g, requires_grad=True) * 0.01\n",
        "B3 = torch.randn(1, n_hid3, generator=g, requires_grad=True) * 0.01\n",
        "\n",
        "# Weights and Biases of the Fourth Layer:\n",
        "W4 = torch.randn(n_hid3, n_out, generator=g, requires_grad=True) * 0.01\n",
        "B4 = torch.randn(1, n_out, generator=g, requires_grad=True) * 0.01"
      ]
    },
    {
      "cell_type": "markdown",
      "metadata": {
        "id": "M1UfplZkuuwl"
      },
      "source": [
        "## Forward Pass:\n",
        "\n",
        "The forward pass refers to the computation process where the input data is passed through the network layer by layer to produce the output. At each layer, the input is transformed using a linear transformation (weighted sum followed by the addition of a bias term) and then typically passed through a non-linear activation function. The output of the final layer is considered the prediction of the network. This step is crucial for both training and evaluation of the model.\n",
        "\n",
        "In the next cell, we will illustrate the forward pass using our MLP model designed for the MNIST dataset. We will walk through the process step by step, starting with the input layer, moving through the hidden layers, and finally to the output layer. For each layer, we will apply the linear transformation, followed by an activation function for hidden layers. The final layer will use the softmax function to produce a probability distribution over the 10 possible digit classes.\n",
        "\n",
        "\n",
        "Here's a step-by-step breakdown:\n",
        "\n",
        "- `batch_size = 32`: This specifies the number of training examples to process simultaneously, which affects the efficiency of training and the generalization capability of the model.\n",
        "\n",
        "**Layer 1:**\n",
        "- `PreActivation1`: Result of the linear transformation applied to the input, computed as `sample_inp @ W1 + B1`, resulting in dimensions `[batch_size, n_hid1]`.\n",
        "- `Hidden1`: Output after applying the sigmoid activation function to `PreActivation1`, maintaining dimensions `[batch_size, n_hid1]`.\n",
        "\n",
        "**Layer 2:**\n",
        "- `PreActivation2`: Linear transformation for the second layer, using `Hidden1` as input, resulting in dimensions `[batch_size, n_hid2]`.\n",
        "- `Hidden2`: Output after applying the ReLU activation function to `PreActivation2`, with dimensions `[batch_size, n_hid2]`.\n",
        "\n",
        "**Layer 3:**\n",
        "- `PreActivation3`: Linear transformation for the third layer, with dimensions `[batch_size, n_hid3]`.\n",
        "- `Hidden3`: Output after applying the tanh activation function to `PreActivation3`, maintaining dimensions `[batch_size, n_hid3]`.\n",
        "\n",
        "**Layer 4 (Output Layer):**\n",
        "- `Logits`: Result of the final linear transformation applied to `Hidden3`, with dimensions `[batch_size, n_out]`, where `n_out` is the number of output classes.\n",
        "- `Probs`: Probabilities for each class, obtained by applying the softmax function to `Logits`, with dimensions `[batch_size, n_out]`. The softmax ensures these probabilities sum to 1 for each sample.\n",
        "\n",
        "**Loss Computation:**\n",
        "- `LogProbs`: Logarithm of `Probs`, necessary for computing cross-entropy loss, maintaining dimensions `[batch_size, n_out]`.\n",
        "- `Loss`: The cross-entropy loss for the batch, calculated by taking the negative log likelihood of the correct class probabilities (indexed by `sample_out`) and averaging, resulting in a single scalar value. This metric quantifies the model's prediction accuracy, guiding parameter adjustments during training.\n",
        "\n",
        "**There is no need to change the following cell.**\n",
        "\n"
      ]
    },
    {
      "cell_type": "code",
      "execution_count": 24,
      "metadata": {
        "id": "x91f7D3yuuwl"
      },
      "outputs": [],
      "source": [
        "batch_size = 32\n",
        "sample_inp = torch.Tensor(X_train[:batch_size])\n",
        "sample_out = torch.Tensor(Y_train[:batch_size]).int()\n",
        "\n",
        "# Forward pass\n",
        "\n",
        "# Layer 1\n",
        "# Applying Linear transformation\n",
        "PreActivation1 = sample_inp @ W1 + B1\n",
        "# Applying Sigmoid activation function\n",
        "Hidden1 = torch.sigmoid(PreActivation1)\n",
        "\n",
        "# Layer 2\n",
        "# Applying Linear transformation\n",
        "PreActivation2 = Hidden1 @ W2 + B2\n",
        "# Applying ReLU activation function\n",
        "Hidden2 = torch.relu(PreActivation2)\n",
        "\n",
        "# Layer 3\n",
        "# Applying Linear transformation\n",
        "PreActivation3 = Hidden2 @ W3 + B3\n",
        "# Applying Tanh activation function\n",
        "Hidden3 = torch.tanh(PreActivation3)\n",
        "\n",
        "\n",
        "# Layer 4\n",
        "# Applying Linear transformation\n",
        "Logits = Hidden3 @ W4 + B4\n",
        "# Applying Softmax activation function\n",
        "Exp4 = torch.exp(Logits)\n",
        "Sum4 = torch.sum(Exp4, dim=1).view(-1, 1)\n",
        "SumInverse4 = 1 / Sum4\n",
        "Probs = Exp4 * SumInverse4\n",
        "\n",
        "# Loss computation (Cross-entropy loss)\n",
        "LogProbs = Probs.log()\n",
        "Loss = -LogProbs[range(batch_size), sample_out].mean()"
      ]
    },
    {
      "cell_type": "markdown",
      "metadata": {
        "id": "UP3EHgrhuuwn"
      },
      "source": [
        "## Backward Pass and Gradient Computation:\n",
        "\n",
        "Following the forward pass, the next critical phase in training a neural network is the backward pass, which involves computing the gradients of the loss function with respect to each parameter in the model. This process, often facilitated by automatic differentiation libraries like PyTorch's `autograd`, allows us to understand how each parameter needs to be adjusted to minimize the loss.\n",
        "\n",
        "In the next cell, we will compute the gradients of our model using `autograd` and save all the values as numpy arrays.\n",
        "\n",
        "\n",
        "\n",
        "\n",
        "Here's a breakdown of the variables in the code:\n",
        "\n",
        "- **`parameters`:** A list containing all the trainable parameters of the network, including the weights (`W1`, `W2`, `W3`, `W4`) and biases (`B1`, `B2`, `B3`, `B4`) of each layer.\n",
        "\n",
        "- **`middle_values`:** A list of intermediate values computed during the forward pass. These include pre-activation values (`PreActivation1`, `PreActivation2`, `PreActivation3`), hidden layer outputs (`Hidden1`, `Hidden2`, `Hidden3`), and other intermediate computations (`Logits`, `Exp4`, `Sum4`, `SumInverse4`, `Probs`, `LogProbs`) crucial for the loss calculation.\n",
        "\n",
        "- **Weights (`W1`, `W2`, `W3`, `W4`):** These matrices represent the wights of different layers of our model saved as NumPy arrays.\n",
        "\n",
        "- **Biases (`B1`, `B2`, `B3`, `B4`):** These matrices represent the biases of different layers of our model saved as NumPy arrays.\n",
        "\n",
        "- **Weight Gradients (`W1_grad`, `W2_grad`, `W3_grad`, `W4_grad`):** After the backward pass, `W1_grad` holds the gradients of the loss function with respect to `W1`, and similarly for the other weight matrices. All these matrices are saved as NumPy arrays.\n",
        "\n",
        "- **Bias Gradients (`B1_grad`, `B2_grad`, `B3_grad`, `B4_grad`):** Similar to weight gradients, these vectors contain the gradients of the loss with respect to the biases. `B1_grad` is associated with the biases of the first hidden layer, `B2_grad` with the second, and so on. All these vectors are saved as NumPy arrays.\n",
        "\n",
        "**There is no need to change the following cell.**\n"
      ]
    },
    {
      "cell_type": "code",
      "execution_count": 25,
      "metadata": {
        "id": "BrI-zwUCuuwn"
      },
      "outputs": [],
      "source": [
        "parameters = [W1, B1, W2, B2, W3, B3, W4, B4]\n",
        "\n",
        "middle_values = [PreActivation1, Hidden1,\n",
        "                 PreActivation2, Hidden2,\n",
        "                 PreActivation3, Hidden3,\n",
        "                 Logits, Exp4, Sum4, SumInverse4, Probs,\n",
        "                 LogProbs]\n",
        "\n",
        "# Backward pass (autograd)\n",
        "for p in parameters:\n",
        "    p.grad = None\n",
        "    p.retain_grad()\n",
        "for m in middle_values:\n",
        "    m.retain_grad()\n",
        "Loss.backward()\n",
        "\n",
        "Loss = np.array(Loss.detach())\n",
        "\n",
        "LogProbs_grad = np.array(LogProbs.grad)\n",
        "LogProbs = np.array(LogProbs.detach())\n",
        "\n",
        "Probs_grad = np.array(Probs.grad)\n",
        "Probs = np.array(Probs.detach())\n",
        "\n",
        "SumInverse4_grad = np.array(SumInverse4.grad)\n",
        "SumInverse4 = np.array(SumInverse4.detach())\n",
        "\n",
        "Sum4_grad = np.array(Sum4.grad)\n",
        "Sum4 = np.array(Sum4.detach())\n",
        "\n",
        "Exp4_grad = np.array(Exp4.grad)\n",
        "Exp4 = np.array(Exp4.detach())\n",
        "\n",
        "Logits_grad = np.array(Logits.grad)\n",
        "Logits = np.array(Logits.detach())\n",
        "\n",
        "B4_grad = np.array(B4.grad)\n",
        "B4 = np.array(B4.detach())\n",
        "\n",
        "W4_grad = np.array(W4.grad)\n",
        "W4 = np.array(W4.detach())\n",
        "\n",
        "Hidden3_grad = np.array(Hidden3.grad)\n",
        "Hidden3 = np.array(Hidden3.detach())\n",
        "\n",
        "PreActivation3_grad = np.array(PreActivation3.grad)\n",
        "PreActivation3 = np.array(PreActivation3.detach())\n",
        "\n",
        "B3_grad = np.array(B3.grad)\n",
        "B3 = np.array(B3.detach())\n",
        "\n",
        "W3_grad = np.array(W3.grad)\n",
        "W3 = np.array(W3.detach())\n",
        "\n",
        "Hidden2_grad = np.array(Hidden2.grad)\n",
        "Hidden2 = np.array(Hidden2.detach())\n",
        "\n",
        "PreActivation2_grad = np.array(PreActivation2.grad)\n",
        "PreActivation2 = np.array(PreActivation2.detach())\n",
        "\n",
        "B2_grad = np.array(B2.grad)\n",
        "B2 = np.array(B2.detach())\n",
        "\n",
        "W2_grad = np.array(W2.grad)\n",
        "W2 = np.array(W2.detach())\n",
        "\n",
        "Hidden1_grad = np.array(Hidden1.grad)\n",
        "Hidden1 = np.array(Hidden1.detach())\n",
        "\n",
        "PreActivation1_grad = np.array(PreActivation1.grad)\n",
        "PreActivation1 = np.array(PreActivation1.detach())\n",
        "\n",
        "B1_grad = np.array(B1.grad)\n",
        "B1 = np.array(B1.detach())\n",
        "\n",
        "W1_grad = np.array(W1.grad)\n",
        "W1 = np.array(W1.detach())\n",
        "\n",
        "sample_inp = np.array(sample_inp)\n",
        "sample_out = np.array(sample_out)"
      ]
    },
    {
      "cell_type": "markdown",
      "metadata": {
        "id": "lANLit4Cuuwp"
      },
      "source": [
        "## Manual Gradient Calculation by Chain Rule: (50 Points)\n",
        "\n",
        "The chain rule is a fundamental principle in calculus that facilitates the computation of complex derivatives by breaking them down into simpler parts. In the context of neural networks, the chain rule enables the efficient calculation of gradients of the loss function with respect to any parameter in the network, regardless of its position. This process is crucial for understanding how changes in parameters affect the overall loss, guiding the optimization process towards lower loss values.\n",
        "\n",
        "In the next cells, we will start a hands-on exploration of this concept by manually calculating the gradients for selected parts of our model. This exercise will not only deepen your understanding of backpropagation  but also reinforce the mathematical intuition behind the learning process.\n",
        "\n",
        "We will proceed as follows:\n",
        "\n",
        "1. **Identify Key Operations:** We will start by pinpointing the key operations in our model that contribute to the final prediction. This includes linear transformations, activation functions, and the final loss computation.\n",
        "   \n",
        "2. **Compute Local Gradients:** For each operation, we will compute the local gradient, which represents the rate of change of the operation's output with respect to its input.\n",
        "\n",
        "3. **Apply the Chain Rule:** Using the chain rule, we will then piece together these local gradients to compute the gradient of the loss function with respect to each parameter in our model. This involves multiplying the local gradients along the paths from the output back to each parameter.\n",
        "\n",
        "4. **Verify Your Calculations:** Finally, we will compare our manually computed gradients with those obtained using automatic differentiation (e.g., PyTorch's `autograd`), ensuring the correctness of our computations. For example `dLogProbs` that you manualy calculate should be equal to the `LogProbs_grad` that we calculated before using PyTorch's autograd and we will verify that by `check()` function.\n",
        "\n",
        "\n",
        "**HINT:** As you start doing manual gradient calculation, keep in mind that the gradient of any parameter or intermediate variable should retain the same dimensions as the original array.\n",
        "\n",
        "Additionally, all calculations in this exercise **should be performed using NumPy** and its functions.\n",
        "\n",
        "**Please complete the #TODO parts of the following cells**\n",
        "\n"
      ]
    },
    {
      "cell_type": "code",
      "execution_count": 26,
      "metadata": {
        "id": "k3l6DFZjuuwp"
      },
      "outputs": [],
      "source": [
        "# Function to compare manually computed gradients with PyTorch (autograd) gradients\n",
        "def check(s, manual_grad, autograd_grad):\n",
        "  corrcetness = np.allclose(manual_grad, autograd_grad)\n",
        "  print(f'{s:15s} | Gradient Correctness: {str(corrcetness):5s}')"
      ]
    },
    {
      "cell_type": "code",
      "execution_count": 28,
      "metadata": {
        "colab": {
          "base_uri": "https://localhost:8080/"
        },
        "id": "4_Ese1mJuuwq",
        "outputId": "d61afbac-b138-49c7-ea98-6d1567a3e379"
      },
      "outputs": [
        {
          "output_type": "stream",
          "name": "stdout",
          "text": [
            "LogProbs        | Gradient Correctness: True \n"
          ]
        }
      ],
      "source": [
        "# Backward pass (manual)\n",
        "# Loss\n",
        "# TODO\n",
        "dLogProbs = np.zeros_like(LogProbs)\n",
        "derivative_value = -1 / batch_size\n",
        "dLogProbs[np.arange(batch_size),sample_out] = derivative_value\n",
        "\n",
        "\n",
        "# Verify the correctness of the gradients that you calculated\n",
        "check('LogProbs', dLogProbs, LogProbs_grad)"
      ]
    },
    {
      "cell_type": "code",
      "execution_count": 32,
      "metadata": {
        "colab": {
          "base_uri": "https://localhost:8080/"
        },
        "id": "8QqVIsDIuuws",
        "outputId": "897412fe-f18e-4f14-8b39-345b5f0ac58f"
      },
      "outputs": [
        {
          "output_type": "stream",
          "name": "stdout",
          "text": [
            "Probs           | Gradient Correctness: True \n",
            "SumInverse4     | Gradient Correctness: True \n",
            "Sum4            | Gradient Correctness: True \n",
            "Exp4            | Gradient Correctness: True \n",
            "Logits          | Gradient Correctness: True \n",
            "B4              | Gradient Correctness: True \n",
            "W4              | Gradient Correctness: True \n",
            "Hidden3         | Gradient Correctness: True \n"
          ]
        }
      ],
      "source": [
        "# Backward pass (manual)\n",
        "# Layer 4\n",
        "\n",
        "# TODO\n",
        "dProbs = dLogProbs / Probs\n",
        "\n",
        "# TODO\n",
        "sum_factor = dProbs * Exp4\n",
        "dSumInverse4 = np.sum(sum_factor, axis = 1, keepdims=True)\n",
        "\n",
        "# TODO\n",
        "dSum4 = (-dSumInverse4) / (Sum4**2)\n",
        "\n",
        "# TODO\n",
        "dExp4 = dSum4 + dProbs * SumInverse4\n",
        "\n",
        "# TODO\n",
        "dLogits = dExp4 * Exp4\n",
        "\n",
        "# TODO\n",
        "dB4 = np.sum(dLogits, axis = 0, keepdims= True)\n",
        "\n",
        "# TODO\n",
        "dW4 = Hidden3.T @ dLogits\n",
        "\n",
        "# TODO\n",
        "dHidden3 = dLogits @ W4.T\n",
        "\n",
        "\n",
        "# Verify the correctness of the gradients that you calculated\n",
        "check('Probs', dProbs, Probs_grad)\n",
        "check('SumInverse4', dSumInverse4, SumInverse4_grad)\n",
        "check('Sum4', dSum4, Sum4_grad)\n",
        "check('Exp4', dExp4, Exp4_grad)\n",
        "check('Logits', dLogits, Logits_grad)\n",
        "check('B4', dB4, B4_grad)\n",
        "check('W4', dW4, W4_grad)\n",
        "check('Hidden3', dHidden3, Hidden3_grad)"
      ]
    },
    {
      "cell_type": "code",
      "execution_count": 33,
      "metadata": {
        "colab": {
          "base_uri": "https://localhost:8080/"
        },
        "id": "766smdIFuuwt",
        "outputId": "8b4a0305-c683-4fc7-9731-3b08dd7280cf"
      },
      "outputs": [
        {
          "output_type": "stream",
          "name": "stdout",
          "text": [
            "PreActivation3  | Gradient Correctness: True \n",
            "B3              | Gradient Correctness: True \n",
            "W3              | Gradient Correctness: True \n",
            "Hidden2         | Gradient Correctness: True \n"
          ]
        }
      ],
      "source": [
        "# Backward pass (manual)\n",
        "# Layer 3\n",
        "\n",
        "# TODO\n",
        "dPreActivation3 = dHidden3 * (1 - np.square(Hidden3))\n",
        "\n",
        "# TODO\n",
        "dB3 = np.sum(dPreActivation3, axis=0, keepdims=True)\n",
        "\n",
        "# TODO\n",
        "dW3 = Hidden2.T @ dPreActivation3\n",
        "\n",
        "# TODO\n",
        "dHidden2 = dPreActivation3 @ W3.T\n",
        "\n",
        "\n",
        "# Verify the correctness of the gradients that you calculated\n",
        "check('PreActivation3', dPreActivation3, PreActivation3_grad)\n",
        "check('B3', dB3, B3_grad)\n",
        "check('W3', dW3, W3_grad)\n",
        "check('Hidden2', dHidden2, Hidden2_grad)"
      ]
    },
    {
      "cell_type": "code",
      "execution_count": 35,
      "metadata": {
        "colab": {
          "base_uri": "https://localhost:8080/"
        },
        "id": "w7lVjjK7uuwu",
        "outputId": "1447f273-684f-4ef4-ff69-831a4ae8e546"
      },
      "outputs": [
        {
          "output_type": "stream",
          "name": "stdout",
          "text": [
            "PreActivation2  | Gradient Correctness: True \n",
            "B2              | Gradient Correctness: True \n",
            "W2              | Gradient Correctness: True \n",
            "Hidden1         | Gradient Correctness: True \n"
          ]
        }
      ],
      "source": [
        "# Backward pass (manual)\n",
        "# Layer 2\n",
        "\n",
        "# TODO\n",
        "positive_factors = PreActivation2 > 0\n",
        "dPreActivation2 = dHidden2 * positive_factors\n",
        "\n",
        "# TODO\n",
        "dB2 = np.sum(dPreActivation2, axis=0, keepdims=True)\n",
        "\n",
        "# TODO\n",
        "dW2 = Hidden1.T @ dPreActivation2\n",
        "\n",
        "# TODO\n",
        "dHidden1 = dPreActivation2 @ W2.T\n",
        "\n",
        "\n",
        "# Verify the correctness of the gradients that you calculated\n",
        "check('PreActivation2', dPreActivation2, PreActivation2_grad)\n",
        "check('B2', dB2, B2_grad)\n",
        "check('W2', dW2, W2_grad)\n",
        "check('Hidden1', dHidden1, Hidden1_grad)"
      ]
    },
    {
      "cell_type": "code",
      "execution_count": 41,
      "metadata": {
        "colab": {
          "base_uri": "https://localhost:8080/"
        },
        "id": "muAEzgYCuuwv",
        "outputId": "4af4db2a-b2ca-4bc1-8541-bf8f85b8c1f0"
      },
      "outputs": [
        {
          "output_type": "stream",
          "name": "stdout",
          "text": [
            "PreActivation1  | Gradient Correctness: True \n",
            "B1              | Gradient Correctness: True \n",
            "W1              | Gradient Correctness: True \n"
          ]
        }
      ],
      "source": [
        "# Backward pass (manual)\n",
        "# Layer 1\n",
        "\n",
        "# TODO\n",
        "coefficient = (1- Hidden1) * (Hidden1)\n",
        "dPreActivation1 = coefficient * dHidden1\n",
        "#print(dPreActivation1)\n",
        "\n",
        "# TODO\n",
        "dB1 = np.sum(dPreActivation1, axis=0, keepdims=True)\n",
        "\n",
        "# TODO\n",
        "dW1 = sample_inp.T @ dPreActivation1\n",
        "\n",
        "\n",
        "# Verify the correctness of the gradients that you calculated\n",
        "check('PreActivation1', dPreActivation1, PreActivation1_grad)\n",
        "check('B1', dB1, B1_grad)\n",
        "check('W1', dW1, W1_grad)"
      ]
    },
    {
      "cell_type": "markdown",
      "metadata": {
        "id": "cxcEJhg-uuww"
      },
      "source": [
        "## Updating Model Parameters: (5 Points)\n",
        "\n",
        "With the gradients computed during the backpropagation step, the next critical phase in training our neural network involves updating the model's parameters. This step is essential for minimizing the loss function and improving the model's predictions over time.\n",
        "\n",
        "For our model, this translates to the following updates:\n",
        "- For the first layer's weights (`W1`) and biases (`B1`), we subtract the product of the learning rate and their respective gradients (`dW1`, `dB1`).\n",
        "- Similarly, this pattern is repeated for the subsequent layers' weights (`W2`, `W3`, `W4`) and biases (`B2`, `B3`, `B4`), ensuring that each parameter is nudged in the direction that minimizes the loss.\n",
        "\n",
        "**Please complete the #TODO parts of the following cell**"
      ]
    },
    {
      "cell_type": "code",
      "execution_count": 42,
      "metadata": {
        "id": "e46L1tJzuuww"
      },
      "outputs": [],
      "source": [
        "# Update parameters\n",
        "# TODO\n",
        "learning_rate = 0.01\n",
        "\n",
        "# TODO\n",
        "W1 -= learning_rate * dW1\n",
        "B1 -= learning_rate * dB1\n",
        "\n",
        "# TODO\n",
        "W2 -= learning_rate * dW2\n",
        "B2 -= learning_rate * dB2\n",
        "\n",
        "# TODO\n",
        "W3 -= learning_rate * dW3\n",
        "B3 -= learning_rate * dB3\n",
        "\n",
        "# TODO\n",
        "W4 -= learning_rate * dW4\n",
        "B4 -= learning_rate * dB4"
      ]
    },
    {
      "cell_type": "markdown",
      "metadata": {
        "id": "8tjfvCiOuuwx"
      },
      "source": [
        "## Activation Functions Using Numpy Instead of PyTorch: (10 Points)\n",
        "\n",
        "In the next phase of this notebook, we will try to implement a complete multilayer perceptron (MLP) model using only the NumPy library. For this purpose, you should implement the following activation functions using only NumPy functions:\n",
        "\n",
        "- **Sigmoid:**\n",
        "  The Sigmoid function is defined as \\( \\sigma(x) = \\frac{1}{1 + e^{-x}} \\). It maps any input value to a value between 0 and 1.\n",
        "\n",
        "- **ReLU:**\n",
        "  The Rectified Linear Unit (ReLU) function is defined as \\( \\text{ReLU}(x) = \\max(0, x) \\). It introduces non-linearity with less computational complexity and has become one of the most popular activation functions in deep learning.\n",
        "\n",
        "- **Tanh:**\n",
        "  The Hyperbolic Tangent (Tanh) function is defined as \\( \\tanh(x) = \\frac{e^{x} - e^{-x}}{e^{x} + e^{-x}} \\). It maps any input value to a range between -1 and 1.\n",
        "\n",
        "**Please complete the #TODO parts of the following cells**\n"
      ]
    },
    {
      "cell_type": "code",
      "execution_count": 62,
      "metadata": {
        "id": "_xzIKxUUuuwx"
      },
      "outputs": [],
      "source": [
        "# Activation functions\n",
        "\n",
        "def sigmoid(x):\n",
        "    \"\"\"\n",
        "    Compute the sigmoid function for the input array.\n",
        "\n",
        "    Parameters:\n",
        "    - x (np.array): The input array for which to compute the sigmoid function.\n",
        "\n",
        "    Returns:\n",
        "    - np.array: The output array where the sigmoid function has been applied element-wise.\n",
        "    \"\"\"\n",
        "    # TODO\n",
        "    return 1 / (1 + np.exp(-x))\n",
        "\n",
        "def relu(x):\n",
        "    \"\"\"\n",
        "    Compute the Rectified Linear Unit (ReLU) for the input array.\n",
        "\n",
        "    Parameters:\n",
        "    - x (np.array): The input array for which to compute the ReLU function.\n",
        "\n",
        "    Returns:\n",
        "    - np.array: The output array where the ReLU function has been applied element-wise, keeping only positive values and setting negative values to zero.\n",
        "    \"\"\"\n",
        "    # TODO\n",
        "    return np.maximum(0,x)\n",
        "\n",
        "def tanh(x):\n",
        "    \"\"\"\n",
        "    Compute the hyperbolic tangent (tanh) for the input array.\n",
        "\n",
        "    Parameters:\n",
        "    - x (np.array): The input array for which to compute the tanh function.\n",
        "\n",
        "    Returns:\n",
        "    - np.array: The output array where the tanh function has been applied element-wise.\n",
        "    \"\"\"\n",
        "    # TODO\n",
        "    return (np.exp(x) - np.exp(-x)) / (np.exp(x) + np.exp(-x))\n",
        "\n",
        "def softmax(x):\n",
        "    x_max = np.max(x, axis=-1, keepdims=True)\n",
        "    exp_x = np.exp(x - x_max)\n",
        "    sum_exp_x = np.sum(exp_x, axis=-1, keepdims=True)\n",
        "    return exp_x / sum_exp_x"
      ]
    },
    {
      "cell_type": "markdown",
      "metadata": {
        "id": "ipGwnSN1uuwy"
      },
      "source": [
        "## Writing the MLP Class: (10 Points)\n",
        "\n",
        "In the next cell, you are tasked with completing the MLP class, which will serve as the foundation for training an MLP model on the MNIST dataset. The class should have the essential components of an MLP, including:\n",
        "\n",
        "- **Initialization of Parameters:** Define the architecture (number of layers, size of each layer) and initialize the weights and biases accordingly. This sets up the structure of your neural network and prepares it for the forward and backward passes. You can use NumPy random functions for this purpose.\n",
        "\n",
        "- **Forward Pass Method:** Implement the forward propagation algorithm to compute the output of the network for a given input. This involves applying a series of linear transformations and non-linear activations to the input data to obtain the final output. You are free to choose the size of the layers and also the activation functions\n",
        "\n",
        "- **Loss Computation:** Calculate the loss to evaluate how well the model is performing. The loss function measures the discrepancy between the predicted outputs and the actual targets, guiding the training process. Use Cross-entropy loss for this example.\n",
        "\n",
        "- **Backward Pass Method:** Compute the gradients of the loss with respect to the parameters **manually**.\n",
        "\n",
        "- **Step Method:**\n",
        "  The step method is responsible for updating the model's parameters (weights and biases) using the gradients computed after the backward pass. Typically, the step method will iterate over all parameters and apply the update:\n",
        "  \\[ \\text{parameter} = \\text{parameter} - (\\text{learning_rate} \\times \\text{gradient}) \\]\n",
        "\n",
        "\n",
        "\n",
        "Feel free to design the architecture of your model, select appropriate hyperparameters, and choose activation functions based on your specific requirements and objectives! This flexibility allows you to tailor the model to optimally address your unique dataset and performance goals.\n",
        "\n",
        "\n",
        "All calculations in this exercise **should be performed using NumPy** and its functions.\n",
        "\n",
        "**Please complete the #TODO parts of the following cell**\n",
        "\n",
        "\n",
        "\n"
      ]
    },
    {
      "cell_type": "code",
      "execution_count": 72,
      "metadata": {
        "id": "sudLqOobuuwz"
      },
      "outputs": [],
      "source": [
        "class MLP:\n",
        "    \"\"\"\n",
        "    A class representing a Multilayer Perceptron (MLP).\n",
        "\n",
        "    Attributes:\n",
        "        W1, W2, ... (np.ndarray): Weights for each layer.\n",
        "        B1, B2, ... (np.ndarray): Biases for each layer.\n",
        "        dW1, dW2, ... (np.ndarray): Gradients of weights for each layer during backpropagation.\n",
        "        dB1, dB2, ... (np.ndarray): Gradients of biases for each layer during backpropagation.\n",
        "        (You can add other attributes related to activations and gradients during forward and backward passes)\n",
        "\n",
        "    Methods:\n",
        "        forward(X): Performs the forward pass using the input X.\n",
        "        Loss(Y): Computes the cross-entropy loss for the output compared to true labels Y.\n",
        "        backward(X, Y): Performs the backward pass using the input X and labels Y to compute gradients.\n",
        "        step(learning_rate): Updates the weights and biases according to the computed gradients and learning rate.\n",
        "    \"\"\"\n",
        "    def __init__(self, n_inp, n_hid1, n_hid2, n_hid3, n_out): # we just implement this class for 3 layers\n",
        "        \"\"\"\n",
        "        Initializes a new MLP instance with specified layer sizes.\n",
        "        (Don't forget to initialize the intermediate values and their gradients as well!)\n",
        "\n",
        "        Parameters:\n",
        "            n_inp (int): Number of input neurons.\n",
        "            n_hid1 (int): Number of neurons in the first hidden layer.\n",
        "            n_hid2 (int): Number of neurons in the second hidden layer.\n",
        "            .\n",
        "            .\n",
        "            .\n",
        "            n_hidN (int): Number of neurons in the Nth hidden layer.\n",
        "            n_out (int): Number of output neurons (typically the number of classes).\n",
        "        \"\"\"\n",
        "        # TODO\n",
        "        self.W1 = np.random.randn(n_inp, n_hid1)\n",
        "        self.W2 = np.random.randn(n_hid1, n_hid2)\n",
        "        self.W3 = np.random.randn(n_hid2, n_hid3)\n",
        "        self.W4 = np.random.randn(n_hid3, n_out)\n",
        "        self.B1 = np.random.randn(n_hid1)\n",
        "        self.B2 = np.random.randn(n_hid2)\n",
        "        self.B3 = np.random.randn(n_hid3)\n",
        "        self.B4 = np.random.randn(n_out)\n",
        "\n",
        "    def forward(self, X):\n",
        "        \"\"\"\n",
        "        Perform the forward pass through the network and return the probability of each class.\n",
        "\n",
        "        Parameters:\n",
        "            X (np.ndarray): Input data matrix, where each row represents a sample.\n",
        "\n",
        "        Returns:\n",
        "            np.ndarray: Probabilities of each class for each input sample.\n",
        "        \"\"\"\n",
        "        # TODO a is value of activation function and z is preactivation value\n",
        "        z1 = self.B1 + X @ self.W1\n",
        "        self.a1 = sigmoid(z1)\n",
        "        z2 = self.B2 + self.a1 @ self.W2\n",
        "        self.a2 = relu(z2)\n",
        "        z3 = self.B3 + self.a2 @ self.W3\n",
        "        self.a3 = tanh(z3)\n",
        "        z4 = self.B4 + self.a3 @ self.W4\n",
        "        self.a4 = softmax(z4)\n",
        "        self.z2 = z2\n",
        "        return self.a4\n",
        "\n",
        "\n",
        "    def Loss(self, Y, Y_predicted):\n",
        "        \"\"\"\n",
        "        Compute the cross-entropy loss for the output of the network compared to the true labels.\n",
        "\n",
        "        Parameters:\n",
        "            Y (np.ndarray): True labels for the input data, where each entry is an index of the true class.\n",
        "\n",
        "        Returns:\n",
        "            float: The mean cross-entropy loss across all input samples.\n",
        "        \"\"\"\n",
        "        # TODO\n",
        "        probs = Y_predicted[range(len(Y)), Y]\n",
        "        return np.sum(-np.log(probs)) / len(Y)\n",
        "\n",
        "    def backward(self, X, Y):\n",
        "        \"\"\"\n",
        "        Perform the backward pass using the input and labels to compute gradients for learning.\n",
        "\n",
        "        Parameters:\n",
        "            X (np.ndarray): Input data matrix, where each row represents a sample.\n",
        "            Y (np.ndarray): True labels for the input data, where each entry is an index of the true class.\n",
        "\n",
        "        Returns:\n",
        "            None: This method updates class attributes corresponding to gradients.\n",
        "        \"\"\"\n",
        "        # TODO\n",
        "        dz4 = self.a4\n",
        "        dz4[range(len(Y)), Y] -= 1\n",
        "        dz4 = dz4 / len(Y)\n",
        "        self.dB4 = np.sum(dz4, axis = 0)\n",
        "        self.dW4 = self.a3.T @ dz4\n",
        "        coefficient1 = 1 - np.square(self.a3)\n",
        "        da3 = dz4 @ self.W4.T\n",
        "        dz3 = coefficient1 * da3\n",
        "        self.dB3 = np.sum(dz3, axis = 0)\n",
        "        self.dW3 = self.a2.T @ dz3\n",
        "        coefficient2 = self.z2 > 0\n",
        "        da2 = dz3 @ self.W3.T\n",
        "        dz2 = coefficient2 * da2\n",
        "        self.dB2 = np.sum(dz2, axis = 0)\n",
        "        self.dW2 = self.a1.T @ dz2\n",
        "        coefficient3 = (1 - self.a1) * self.a1\n",
        "        da1 = dz2 @ self.W2.T\n",
        "        dz1 = coefficient3 * da1\n",
        "        self.dB1 = np.sum(dz1, axis = 0)\n",
        "        self.dW1 = X.T @ dz1\n",
        "\n",
        "    def step(self, learning_rate):\n",
        "        \"\"\"\n",
        "        Update the model's weights and biases based on the gradients computed during backpropagation.\n",
        "\n",
        "        Parameters:\n",
        "            learning_rate (float): The learning rate to use for the update step.\n",
        "\n",
        "        Returns:\n",
        "            None: This method updates the weights and biases of the MLP.\n",
        "        \"\"\"\n",
        "        # TODO\n",
        "        self.W1 -= learning_rate * self.dW1\n",
        "        self.B1 -= learning_rate * self.dB1\n",
        "        self.W2 -= learning_rate * self.dW2\n",
        "        self.B2 -= learning_rate * self.dB2\n",
        "        self.W3 -= learning_rate * self.dW3\n",
        "        self.B3 -= learning_rate * self.dB3\n",
        "        self.W4 -= learning_rate * self.dW4\n",
        "        self.B4 -= learning_rate * self.dB4"
      ]
    },
    {
      "cell_type": "markdown",
      "metadata": {
        "id": "Uc9GjjLUuuw0"
      },
      "source": [
        "## Setting the Hyperparameters and Model Configuration:\n",
        "\n",
        "Hyperparameters, such as the learning rate, number of epochs, and batch size, play a crucial role in the training process and significantly influence the model's performance and efficiency. Unlike model parameters that are learned during training, hyperparameters must be predefined and can have a profound impact on the learning dynamics and final outcomes.\n",
        "\n",
        "- **Learning Rate:** Determines the step size at each iteration while moving toward a minimum of the loss function. An appropriately chosen learning rate ensures that the model converges efficiently to a good solution.\n",
        "\n",
        "- **Number of Epochs:** The total number of times the training dataset is passed through the network. Properly setting this value ensures that the model is adequately trained without falling into the pitfalls of underfitting or overfitting.\n",
        "\n",
        "- **Batch Size:** Dictates the number of training examples used in one iteration. It balances the trade-off between the regularization effect and the stability of the gradient, also impacting memory usage and computational speed.\n",
        "\n",
        "- **Model Size and Parameters:** Refers to the architecture of the MLP, including the number of layers and the number of neurons in each layer. The model's size directly affects its capacity to learn, with more parameters allowing for more complex functions to be modeled. However, larger models also require more data to train effectively without overfitting and entail higher computational costs. You could define this part in the previous cell as you wrote tha MLP class as well.\n",
        "\n",
        "In the next cell, you will define these hyperparameters and configure the model's architecture.\n",
        "\n",
        "**Please complete the #TODO parts of the following cell**\n"
      ]
    },
    {
      "cell_type": "code",
      "execution_count": 120,
      "metadata": {
        "id": "zxP-h4xauuw1"
      },
      "outputs": [],
      "source": [
        "# Setting the hyperparameters\n",
        "# TODO\n",
        "n_inp = X_train.shape[1]\n",
        "n_hid1 = 256\n",
        "n_hid2 = 128\n",
        "n_hid3 = 64\n",
        "n_out = 10\n",
        "\n",
        "batch_size = 64\n",
        "learning_rate = 0.05\n",
        "n_epochs = 50"
      ]
    },
    {
      "cell_type": "markdown",
      "metadata": {
        "id": "Lf4QZj-0uuw1"
      },
      "source": [
        "## Creating Batches for Different Splits of Data (5 Points)\n",
        "\n",
        "In the next cell, you should focus on batching the different splits of the MNIST dataset: the training, validation, and test sets.\n",
        "\n",
        "Implementing this batching process will prepare your data for the training loop, where each batch will be fed into the model sequentially to perform forward and backward passes and update the model parameters.\n",
        "\n",
        "**Please complete the #TODO parts of the following cell**\n"
      ]
    },
    {
      "cell_type": "code",
      "execution_count": 121,
      "metadata": {
        "id": "H79m51IMuuw2"
      },
      "outputs": [],
      "source": [
        "# Creating batches\n",
        "# TODO\n",
        "training_batches = []\n",
        "for i in range(0, len(X_train), batch_size):\n",
        "  batch = (X_train[i: i + batch_size], Y_train[i : i + batch_size])\n",
        "  training_batches.append(batch)\n",
        "\n",
        "# TODO\n",
        "validation_batches = []\n",
        "for i in range(0, len(X_val), batch_size):\n",
        "  batch = (X_val[i: i + batch_size], Y_val[i : i + batch_size])\n",
        "  validation_batches.append(batch)\n",
        "\n",
        "# TODO\n",
        "test_batches = []\n",
        "for i in range(0, len(X_test), batch_size):\n",
        "  batch = (X_test[i: i + batch_size], Y_test[i : i + batch_size])\n",
        "  test_batches.append(batch)"
      ]
    },
    {
      "cell_type": "markdown",
      "metadata": {
        "id": "eKZa8mQbuuw3"
      },
      "source": [
        "## Writing the Training Loop (15 Points)\n",
        "\n",
        "Training a neural network involves iteratively adjusting its parameters to minimize a loss function. This process is encapsulated within a training loop, where the model learns from the training data over multiple epochs. Each epoch represents one complete pass through the entire dataset.\n",
        "\n",
        "In the next cell, you should do the following:\n",
        "\n",
        "1. **Initialize the MLP Model:** Before you can start training, you need to instantiate your MLP class.\n",
        "\n",
        "2. **Implement the Training Loop:** The training loop should include the following key steps for each epoch:\n",
        "   - **Forward Pass:** For each batch of data, compute the model's predictions by passing the data through the model from input to output.\n",
        "   - **Compute Loss:** Evaluate how well the model's predictions match the actual labels by calculating the loss, using a suitable loss function for classification (e.g., cross-entropy loss).\n",
        "   - **Backward Pass:** Compute the gradients of the loss function with respect to the model's parameters.\n",
        "   - **Update Parameters:** Adjust the model's parameters in the opposite direction of the gradients to minimize the loss.\n",
        "   - **Validation:** Periodically, after a set number of epochs, evaluate the model's performance on the validation set to monitor its learning progress and adjust training parameters if necessary.\n",
        "\n",
        "Remember to track the loss during training to monitor the model's performance over time. This information is valuable for debugging and optimizing the training process.\n",
        "\n",
        "**Please complete the #TODO parts of the following cell**\n"
      ]
    },
    {
      "cell_type": "code",
      "execution_count": 122,
      "metadata": {
        "colab": {
          "base_uri": "https://localhost:8080/"
        },
        "id": "Vp0XvDp3uuw4",
        "outputId": "1792df33-a119-48e5-bab5-f6b48ad1a984"
      },
      "outputs": [
        {
          "output_type": "stream",
          "name": "stdout",
          "text": [
            "Epoch 1/50         |       Training Loss: 2.2275  |        Validation Loss: 1.8499\n",
            "Epoch 2/50         |       Training Loss: 1.746  |        Validation Loss: 1.6894\n",
            "Epoch 3/50         |       Training Loss: 1.5723  |        Validation Loss: 1.4452\n",
            "Epoch 4/50         |       Training Loss: 1.3464  |        Validation Loss: 1.3231\n",
            "Epoch 5/50         |       Training Loss: 1.2199  |        Validation Loss: 1.1969\n",
            "Epoch 6/50         |       Training Loss: 1.1412  |        Validation Loss: 1.1019\n",
            "Epoch 7/50         |       Training Loss: 1.0589  |        Validation Loss: 1.0258\n",
            "Epoch 8/50         |       Training Loss: 0.9801  |        Validation Loss: 0.9486\n",
            "Epoch 9/50         |       Training Loss: 0.9286  |        Validation Loss: 0.9169\n",
            "Epoch 10/50         |       Training Loss: 0.8543  |        Validation Loss: 0.8634\n",
            "Epoch 11/50         |       Training Loss: 0.82  |        Validation Loss: 0.8316\n",
            "Epoch 12/50         |       Training Loss: 0.7829  |        Validation Loss: 0.8048\n",
            "Epoch 13/50         |       Training Loss: 0.7625  |        Validation Loss: 0.7471\n",
            "Epoch 14/50         |       Training Loss: 0.7364  |        Validation Loss: 0.7131\n",
            "Epoch 15/50         |       Training Loss: 0.6806  |        Validation Loss: 0.7076\n",
            "Epoch 16/50         |       Training Loss: 0.6571  |        Validation Loss: 0.6583\n",
            "Epoch 17/50         |       Training Loss: 0.6291  |        Validation Loss: 0.6912\n",
            "Epoch 18/50         |       Training Loss: 0.6167  |        Validation Loss: 0.6468\n",
            "Epoch 19/50         |       Training Loss: 0.5824  |        Validation Loss: 0.6325\n",
            "Epoch 20/50         |       Training Loss: 0.5737  |        Validation Loss: 0.6121\n",
            "Epoch 21/50         |       Training Loss: 0.5533  |        Validation Loss: 0.595\n",
            "Epoch 22/50         |       Training Loss: 0.5347  |        Validation Loss: 0.5597\n",
            "Epoch 23/50         |       Training Loss: 0.5218  |        Validation Loss: 0.5583\n",
            "Epoch 24/50         |       Training Loss: 0.5116  |        Validation Loss: 0.5436\n",
            "Epoch 25/50         |       Training Loss: 0.4933  |        Validation Loss: 0.5173\n",
            "Epoch 26/50         |       Training Loss: 0.4778  |        Validation Loss: 0.5367\n",
            "Epoch 27/50         |       Training Loss: 0.48  |        Validation Loss: 0.4921\n",
            "Epoch 28/50         |       Training Loss: 0.4647  |        Validation Loss: 0.5412\n",
            "Epoch 29/50         |       Training Loss: 0.471  |        Validation Loss: 0.4947\n",
            "Epoch 30/50         |       Training Loss: 0.4438  |        Validation Loss: 0.5068\n",
            "Epoch 31/50         |       Training Loss: 0.4334  |        Validation Loss: 0.4707\n",
            "Epoch 32/50         |       Training Loss: 0.4183  |        Validation Loss: 0.4593\n",
            "Epoch 33/50         |       Training Loss: 0.4202  |        Validation Loss: 0.4507\n",
            "Epoch 34/50         |       Training Loss: 0.4048  |        Validation Loss: 0.4519\n",
            "Epoch 35/50         |       Training Loss: 0.4068  |        Validation Loss: 0.4496\n",
            "Epoch 36/50         |       Training Loss: 0.3968  |        Validation Loss: 0.4519\n",
            "Epoch 37/50         |       Training Loss: 0.3872  |        Validation Loss: 0.4268\n",
            "Epoch 38/50         |       Training Loss: 0.3775  |        Validation Loss: 0.432\n",
            "Epoch 39/50         |       Training Loss: 0.3691  |        Validation Loss: 0.408\n",
            "Epoch 40/50         |       Training Loss: 0.3734  |        Validation Loss: 0.4302\n",
            "Epoch 41/50         |       Training Loss: 0.3655  |        Validation Loss: 0.4199\n",
            "Epoch 42/50         |       Training Loss: 0.3618  |        Validation Loss: 0.4244\n",
            "Epoch 43/50         |       Training Loss: 0.3523  |        Validation Loss: 0.4103\n",
            "Epoch 44/50         |       Training Loss: 0.344  |        Validation Loss: 0.4037\n",
            "Epoch 45/50         |       Training Loss: 0.3389  |        Validation Loss: 0.4001\n",
            "Epoch 46/50         |       Training Loss: 0.3387  |        Validation Loss: 0.3947\n",
            "Epoch 47/50         |       Training Loss: 0.3383  |        Validation Loss: 0.3908\n",
            "Epoch 48/50         |       Training Loss: 0.3284  |        Validation Loss: 0.3833\n",
            "Epoch 49/50         |       Training Loss: 0.3249  |        Validation Loss: 0.3755\n",
            "Epoch 50/50         |       Training Loss: 0.3194  |        Validation Loss: 0.3798\n"
          ]
        }
      ],
      "source": [
        "# Initialize the model\n",
        "# TODO\n",
        "mlp = MLP(n_inp, n_hid1, n_hid2, n_hid3, n_out)\n",
        "\n",
        "\n",
        "# Training loop\n",
        "# TODO\n",
        "loss_train = []\n",
        "loss_val = []\n",
        "\n",
        "for epoch in range(n_epochs):\n",
        "    sum_loss_training = 0\n",
        "    sum_loss_validation = 0\n",
        "    for X, Y in training_batches:\n",
        "        # Forward pass\n",
        "        y_predicted = mlp.forward(X)\n",
        "        # Calculate the loss\n",
        "        sum_loss_training += mlp.Loss(Y, y_predicted) / len(training_batches)\n",
        "        # Backward pass\n",
        "        mlp.backward(X,Y)\n",
        "        # Update the weights and biases\n",
        "        mlp.step(learning_rate)\n",
        "\n",
        "    for X, Y in validation_batches:\n",
        "        # Forward pass\n",
        "        y_predicted = mlp.forward(X)\n",
        "        # Calculate the loss\n",
        "        sum_loss_validation += mlp.Loss(Y, y_predicted) / len(validation_batches)\n",
        "    print(f\"Epoch {epoch + 1}/50         |       Training Loss: {round(sum_loss_training, 4)}  |        Validation Loss: {round(sum_loss_validation,4)}\")\n",
        "    loss_train.append(sum_loss_training)\n",
        "    loss_val.append(sum_loss_validation)"
      ]
    },
    {
      "cell_type": "markdown",
      "metadata": {
        "id": "9x0czO8zuuw5"
      },
      "source": [
        "## Plotting the Validation and Training Loss (5 Points)\n",
        "\n",
        "Visualizing the training and validation loss over time is a crucial aspect of the model development process. It provides valuable insights into how well the model is learning, helps identify issues such as overfitting or underfitting, and can guide decisions on model adjustments or hyperparameter tuning.\n",
        "\n",
        "In the next cell, you will create a plot to visualize the training and validation loss over time.\n",
        "\n",
        "**Please complete the #TODO parts of the following cell**"
      ]
    },
    {
      "cell_type": "code",
      "execution_count": 123,
      "metadata": {
        "colab": {
          "base_uri": "https://localhost:8080/",
          "height": 469
        },
        "id": "wz_NFrd3uuw6",
        "outputId": "5745cac1-3a39-4520-8e03-85be12e2acd2"
      },
      "outputs": [
        {
          "output_type": "display_data",
          "data": {
            "text/plain": [
              "<Figure size 650x450 with 1 Axes>"
            ],
            "image/png": "[encoded data removed]"
          },
          "metadata": {}
        }
      ],
      "source": [
        "# plot losses\n",
        "# TODO\n",
        "plt.figure(figsize=(6.5, 4.5))\n",
        "plt.plot(range(1, n_epochs + 1), loss_train, label='Training Loss')\n",
        "plt.plot(range(1, n_epochs + 1), loss_val, label='Validation Loss')\n",
        "plt.ylabel('Loss')\n",
        "plt.xlabel('Epoch')\n",
        "plt.title('Training and Validation Loss')\n",
        "plt.legend()\n",
        "plt.show()"
      ]
    },
    {
      "cell_type": "markdown",
      "metadata": {
        "id": "wLVymmJnuuw7"
      },
      "source": [
        "## Visualizing Some Examples (5 Points)\n",
        "\n",
        "In the next cell, visualize a subset of the test images along with their true and predicted labels.\n",
        "\n",
        "**Please complete the #TODO parts of the following cell**"
      ]
    },
    {
      "cell_type": "code",
      "execution_count": 129,
      "metadata": {
        "colab": {
          "base_uri": "https://localhost:8080/",
          "height": 203
        },
        "id": "0WxaxEdpuuw8",
        "outputId": "5d8c3094-9b50-4f3a-8db8-6fae79285a88"
      },
      "outputs": [
        {
          "output_type": "display_data",
          "data": {
            "text/plain": [
              "<Figure size 1500x500 with 8 Axes>"
            ],
            "image/png": "[encoded data removed]"
          },
          "metadata": {}
        }
      ],
      "source": [
        "# Visualize test images\n",
        "# TODO\n",
        "real_digits = []\n",
        "predicted_digits = []\n",
        "for X, Y in test_batches:\n",
        "  y_predicted = mlp.forward(X)\n",
        "  digits_with_max_prob = np.argmax(y_predicted, axis = 1)\n",
        "  real_digits.append(Y)\n",
        "  predicted_digits.append(digits_with_max_prob)\n",
        "\n",
        "predicted_digits = np.concatenate(predicted_digits)\n",
        "real_digits = np.concatenate(real_digits)\n",
        "fig, axes = plt.subplots(1, 8, figsize=(15, 5))\n",
        "subset_indicies = range(8)\n",
        "for i,j in enumerate(subset_indicies):\n",
        "  axes[i].imshow(X_test[i].reshape(28,28), cmap = 'gray')\n",
        "  axes[i].axis(False)\n",
        "  axes[i].set_title(f'True: {real_digits[j]} | Pred: {predicted_digits[j]}')\n",
        "plt.show()"
      ]
    },
    {
      "cell_type": "markdown",
      "metadata": {
        "id": "FTklleF-uuw9"
      },
      "source": [
        "## Calculating Model Metrics for Different Splits (15 Points)\n",
        "\n",
        "Evaluating the performance of your MLP model across different data splits (training, validation, and test sets) is critical for understanding its generalization ability and overall effectiveness. This evaluation helps ensure that the model performs well not only on the data it was trained on but also on new, unseen data.\n",
        "\n",
        "In the next cell, you should calculate model metrics(precision, recall, F1, ...) for each split and report them.\n",
        "\n",
        "You can use sklearn library for this part, if you want to.\n",
        "\n",
        "**Please complete the #TODO parts of the following cells**"
      ]
    },
    {
      "cell_type": "code",
      "execution_count": 125,
      "metadata": {
        "colab": {
          "base_uri": "https://localhost:8080/"
        },
        "id": "0FlDR-QTuuw_",
        "outputId": "8161ff97-e0b7-4f44-91db-3e51bc547ba9"
      },
      "outputs": [
        {
          "output_type": "stream",
          "name": "stdout",
          "text": [
            "              precision    recall  f1-score   support\n",
            "\n",
            "           0       0.94      0.94      0.94      4939\n",
            "           1       0.99      0.96      0.97      5649\n",
            "           2       0.92      0.89      0.91      4964\n",
            "           3       0.89      0.87      0.88      5131\n",
            "           4       0.92      0.94      0.93      4862\n",
            "           5       0.85      0.86      0.86      4502\n",
            "           6       0.92      0.95      0.94      4937\n",
            "           7       0.91      0.92      0.92      5205\n",
            "           8       0.87      0.90      0.88      4872\n",
            "           9       0.90      0.89      0.89      4939\n",
            "\n",
            "    accuracy                           0.91     50000\n",
            "   macro avg       0.91      0.91      0.91     50000\n",
            "weighted avg       0.91      0.91      0.91     50000\n",
            "\n"
          ]
        }
      ],
      "source": [
        "from sklearn.metrics import classification_report\n",
        "\n",
        "# Training data metrics\n",
        "# TODO\n",
        "real_digits = []\n",
        "predicted_digits = []\n",
        "for X, Y in training_batches:\n",
        "  y_predicted = mlp.forward(X)\n",
        "  digits_with_max_prob = np.argmax(y_predicted, axis = 1)\n",
        "  real_digits.append(Y)\n",
        "  predicted_digits.append(digits_with_max_prob)\n",
        "predicted_digits = np.concatenate(predicted_digits)\n",
        "real_digits = np.concatenate(real_digits)\n",
        "print(classification_report(real_digits, predicted_digits))"
      ]
    },
    {
      "cell_type": "code",
      "execution_count": 126,
      "metadata": {
        "colab": {
          "base_uri": "https://localhost:8080/"
        },
        "id": "Ca79rCPeuuxA",
        "outputId": "f4067578-7ce8-4aa5-885b-a14576d5eb3e"
      },
      "outputs": [
        {
          "output_type": "stream",
          "name": "stdout",
          "text": [
            "              precision    recall  f1-score   support\n",
            "\n",
            "           0       0.91      0.91      0.91       984\n",
            "           1       0.98      0.95      0.97      1093\n",
            "           2       0.90      0.88      0.89       994\n",
            "           3       0.88      0.86      0.87      1000\n",
            "           4       0.89      0.95      0.92       980\n",
            "           5       0.83      0.83      0.83       919\n",
            "           6       0.91      0.94      0.93       981\n",
            "           7       0.90      0.91      0.90      1060\n",
            "           8       0.83      0.86      0.85       979\n",
            "           9       0.90      0.85      0.88      1010\n",
            "\n",
            "    accuracy                           0.90     10000\n",
            "   macro avg       0.89      0.89      0.89     10000\n",
            "weighted avg       0.90      0.90      0.89     10000\n",
            "\n"
          ]
        }
      ],
      "source": [
        "# Validation data metrics\n",
        "# TODO\n",
        "real_digits = []\n",
        "predicted_digits = []\n",
        "for X, Y in validation_batches:\n",
        "  y_predicted = mlp.forward(X)\n",
        "  digits_with_max_prob = np.argmax(y_predicted, axis = 1)\n",
        "  real_digits.append(Y)\n",
        "  predicted_digits.append(digits_with_max_prob)\n",
        "predicted_digits = np.concatenate(predicted_digits)\n",
        "real_digits = np.concatenate(real_digits)\n",
        "print(classification_report(real_digits, predicted_digits))"
      ]
    },
    {
      "cell_type": "code",
      "execution_count": 127,
      "metadata": {
        "colab": {
          "base_uri": "https://localhost:8080/"
        },
        "id": "NxE9ufv3uuxD",
        "outputId": "1312a554-c2cc-4c3d-91fd-cb218fab324f"
      },
      "outputs": [
        {
          "output_type": "stream",
          "name": "stdout",
          "text": [
            "              precision    recall  f1-score   support\n",
            "\n",
            "           0       0.91      0.93      0.92       980\n",
            "           1       0.99      0.97      0.98      1135\n",
            "           2       0.93      0.88      0.90      1032\n",
            "           3       0.89      0.90      0.89      1010\n",
            "           4       0.88      0.93      0.90       982\n",
            "           5       0.84      0.84      0.84       892\n",
            "           6       0.89      0.92      0.91       958\n",
            "           7       0.91      0.90      0.91      1028\n",
            "           8       0.85      0.86      0.86       974\n",
            "           9       0.91      0.86      0.88      1009\n",
            "\n",
            "    accuracy                           0.90     10000\n",
            "   macro avg       0.90      0.90      0.90     10000\n",
            "weighted avg       0.90      0.90      0.90     10000\n",
            "\n"
          ]
        }
      ],
      "source": [
        "# Test data metrics\n",
        "# TODO\n",
        "real_digits = []\n",
        "predicted_digits = []\n",
        "for X, Y in test_batches:\n",
        "  y_predicted = mlp.forward(X)\n",
        "  digits_with_max_prob = np.argmax(y_predicted, axis = 1)\n",
        "  real_digits.append(Y)\n",
        "  predicted_digits.append(digits_with_max_prob)\n",
        "predicted_digits = np.concatenate(predicted_digits)\n",
        "real_digits = np.concatenate(real_digits)\n",
        "print(classification_report(real_digits, predicted_digits))"
      ]
    },
    {
      "cell_type": "markdown",
      "metadata": {
        "id": "-Be3-yO5uuxF"
      },
      "source": [
        "## Reporting the Findings (5 Points)\n",
        "\n",
        "In the next cell you should do the following:\n",
        "\n",
        "1. **Analyze Results:** Compare the metrics across the different splits. A model that performs exceptionally well on the training set but poorly on the validation/test sets may be overfitting. Conversely, underfitting may be indicated by poor performance across all sets.\n",
        "\n",
        "2. **Report Findings:** Summarize the results in a clear and concise manner."
      ]
    },
    {
      "cell_type": "markdown",
      "metadata": {
        "id": "AZnxZ2tYuuxG"
      },
      "source": [
        "### Your Explanation: We know that overfitting occurs when bias is low and model learns noises of the data. In our problem overfitting can occur when we have many layers in our neural network. In this case accuracy over training data and validation data is high and accuracy over test data is low. Underfitting happens when bias is low and model is simple. In our problem it may happen when number of layers is low and in this case accurcy of all types of data is low. If we look at the results of previous cells we see that in our implementation accuracy of our predictions are good and neither overfitting nor underfitting have happend."
      ]
    }
  ],
  "metadata": {
    "kernelspec": {
      "display_name": "ai",
      "language": "python",
      "name": "python3"
    },
    "language_info": {
      "codemirror_mode": {
        "name": "ipython",
        "version": 3
      },
      "file_extension": ".py",
      "mimetype": "text/x-python",
      "name": "python",
      "nbconvert_exporter": "python",
      "pygments_lexer": "ipython3",
      "version": "3.11.6"
    },
    "colab": {
      "provenance": []
    }
  },
  "nbformat": 4,
  "nbformat_minor": 0
}